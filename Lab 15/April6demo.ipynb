{
 "cells": [
  {
   "cell_type": "code",
   "execution_count": 2,
   "metadata": {},
   "outputs": [],
   "source": [
    "import numpy as np"
   ]
  },
  {
   "cell_type": "code",
   "execution_count": 3,
   "metadata": {},
   "outputs": [
    {
     "data": {
      "text/plain": [
       "array([10, 20, 30, 40], dtype=int32)"
      ]
     },
     "execution_count": 3,
     "metadata": {},
     "output_type": "execute_result"
    }
   ],
   "source": [
    "#an_array = np.array([10,20,30,40])\n",
    "an_array = np.array([10,20,30,40],dtype='int32')\n",
    "an_array"
   ]
  },
  {
   "cell_type": "code",
   "execution_count": 4,
   "metadata": {},
   "outputs": [
    {
     "name": "stdout",
     "output_type": "stream",
     "text": [
      "array type int32\n",
      "array shape (4,)\n",
      "array dims 1\n",
      "length 4\n"
     ]
    }
   ],
   "source": [
    "print('array type', an_array.dtype)\n",
    "print('array shape', an_array.shape)\n",
    "print('array dims', an_array.ndim)\n",
    "print('length', len(an_array))"
   ]
  },
  {
   "cell_type": "code",
   "execution_count": 5,
   "metadata": {},
   "outputs": [
    {
     "name": "stdout",
     "output_type": "stream",
     "text": [
      "array type int64\n",
      "array shape (4, 3)\n",
      "array dims 2\n",
      "length 4\n"
     ]
    },
    {
     "data": {
      "text/plain": [
       "array([[10, 20, 30],\n",
       "       [11, 22, 33],\n",
       "       [99, 98, 97],\n",
       "       [70, 71, 72]])"
      ]
     },
     "execution_count": 5,
     "metadata": {},
     "output_type": "execute_result"
    }
   ],
   "source": [
    "two_dim_array = np.array([[10,20,30],[11,22,33],[99,98,97],[70,71,72]])\n",
    "print('array type', two_dim_array.dtype)\n",
    "print('array shape', two_dim_array.shape)\n",
    "print('array dims', two_dim_array.ndim)\n",
    "print('length', len(two_dim_array))\n",
    "two_dim_array\n"
   ]
  },
  {
   "cell_type": "code",
   "execution_count": 6,
   "metadata": {},
   "outputs": [
    {
     "data": {
      "text/plain": [
       "array([[0., 0., 0., 0., 0.],\n",
       "       [0., 0., 0., 0., 0.],\n",
       "       [0., 0., 0., 0., 0.]])"
      ]
     },
     "execution_count": 6,
     "metadata": {},
     "output_type": "execute_result"
    }
   ],
   "source": [
    "zeros_arr = np.zeros((3,5))\n",
    "zeros_arr"
   ]
  },
  {
   "cell_type": "code",
   "execution_count": 7,
   "metadata": {},
   "outputs": [
    {
     "data": {
      "text/plain": [
       "array([[1., 1., 1., 1., 1., 1., 1., 1., 1., 1.],\n",
       "       [1., 1., 1., 1., 1., 1., 1., 1., 1., 1.],\n",
       "       [1., 1., 1., 1., 1., 1., 1., 1., 1., 1.],\n",
       "       [1., 1., 1., 1., 1., 1., 1., 1., 1., 1.]])"
      ]
     },
     "execution_count": 7,
     "metadata": {},
     "output_type": "execute_result"
    }
   ],
   "source": [
    "ones_arr = np.ones((4,10))\n",
    "ones_arr"
   ]
  },
  {
   "cell_type": "code",
   "execution_count": 8,
   "metadata": {},
   "outputs": [
    {
     "data": {
      "text/plain": [
       "array([[42.,  0.,  0.,  0.,  0.],\n",
       "       [ 0., 42.,  0.,  0.,  0.],\n",
       "       [ 0.,  0., 42.,  0.,  0.],\n",
       "       [ 0.,  0.,  0., 42.,  0.],\n",
       "       [ 0.,  0.,  0.,  0., 42.]])"
      ]
     },
     "execution_count": 8,
     "metadata": {},
     "output_type": "execute_result"
    }
   ],
   "source": [
    "diag_arr = np.zeros((5,5))\n",
    "np.fill_diagonal(diag_arr,42)\n",
    "diag_arr\n"
   ]
  },
  {
   "cell_type": "code",
   "execution_count": 9,
   "metadata": {},
   "outputs": [
    {
     "data": {
      "text/plain": [
       "array([[-2, -2, -2],\n",
       "       [-2, -2, -2],\n",
       "       [-2, -2, -2],\n",
       "       [-2, -2, -2],\n",
       "       [-2, -2, -2],\n",
       "       [-2, -2, -2],\n",
       "       [-2, -2, -2]])"
      ]
     },
     "execution_count": 9,
     "metadata": {},
     "output_type": "execute_result"
    }
   ],
   "source": [
    "fill_arr = np.full((7,3),fill_value=-2)\n",
    "fill_arr"
   ]
  },
  {
   "cell_type": "code",
   "execution_count": 10,
   "metadata": {},
   "outputs": [
    {
     "data": {
      "text/plain": [
       "array([[0.00000000e+000, 0.00000000e+000, 8.57697961e-321,\n",
       "        6.93009144e-310],\n",
       "       [4.04738577e-320, 3.16251369e+180, 1.05776693e-153,\n",
       "        6.03460967e+151],\n",
       "       [0.00000000e+000, 1.77229088e-310, 3.50977866e+064,\n",
       "        0.00000000e+000],\n",
       "       [0.00000000e+000,             nan,             nan,\n",
       "        3.50977942e+064],\n",
       "       [5.21501796e-310, 0.00000000e+000, 0.00000000e+000,\n",
       "        0.00000000e+000]])"
      ]
     },
     "execution_count": 10,
     "metadata": {},
     "output_type": "execute_result"
    }
   ],
   "source": [
    "empty_arr = np.empty((5,4))\n",
    "empty_arr"
   ]
  },
  {
   "cell_type": "code",
   "execution_count": 11,
   "metadata": {},
   "outputs": [
    {
     "data": {
      "text/plain": [
       "array([10, 30, 50, 70, 90])"
      ]
     },
     "execution_count": 11,
     "metadata": {},
     "output_type": "execute_result"
    }
   ],
   "source": [
    "range_arr = np.arange(10,101,20)\n",
    "range_arr"
   ]
  },
  {
   "cell_type": "code",
   "execution_count": 12,
   "metadata": {},
   "outputs": [
    {
     "data": {
      "text/plain": [
       "array([10.3, 42.7, 75.1])"
      ]
     },
     "execution_count": 12,
     "metadata": {},
     "output_type": "execute_result"
    }
   ],
   "source": [
    "range_arr = np.arange(10.3,101,32.4)\n",
    "range_arr"
   ]
  },
  {
   "cell_type": "code",
   "execution_count": 13,
   "metadata": {},
   "outputs": [
    {
     "data": {
      "text/plain": [
       "(3, 3)"
      ]
     },
     "execution_count": 13,
     "metadata": {},
     "output_type": "execute_result"
    }
   ],
   "source": [
    "rand_arr = np.random.random(size=(3,3))\n",
    "#rand_arr*100\n",
    "rand_arr.shape"
   ]
  },
  {
   "cell_type": "code",
   "execution_count": 14,
   "metadata": {},
   "outputs": [
    {
     "data": {
      "text/plain": [
       "array([0.63548378, 0.93006347, 0.98536035, 0.67199435, 0.56138726,\n",
       "       0.5014784 , 0.81010022, 0.35116307, 0.39280566])"
      ]
     },
     "execution_count": 14,
     "metadata": {},
     "output_type": "execute_result"
    }
   ],
   "source": [
    "flat_rand_arr = rand_arr.reshape((9,))\n",
    "# flat_rand_arr = rand_arr.flatten()\n",
    "flat_rand_arr.shape\n",
    "flat_rand_arr"
   ]
  },
  {
   "cell_type": "code",
   "execution_count": 15,
   "metadata": {},
   "outputs": [
    {
     "name": "stdout",
     "output_type": "stream",
     "text": [
      "Original\n",
      "[ 0.63548378  0.93006347  0.98536035 -1.          0.56138726  0.5014784\n",
      "  0.81010022  0.35116307  0.39280566]\n",
      "\n",
      "View\n",
      "[[ 0.63548378  0.93006347  0.98536035]\n",
      " [-1.          0.56138726  0.5014784 ]\n",
      " [ 0.81010022  0.35116307  0.39280566]]\n"
     ]
    }
   ],
   "source": [
    "flat_rand_arr[3] = -1\n",
    "print('Original')\n",
    "print(flat_rand_arr)\n",
    "print()\n",
    "print('View')\n",
    "print(rand_arr)"
   ]
  },
  {
   "cell_type": "code",
   "execution_count": 16,
   "metadata": {},
   "outputs": [
    {
     "data": {
      "text/plain": [
       "array([ 0.63548378, -1.        ,  0.81010022])"
      ]
     },
     "execution_count": 16,
     "metadata": {},
     "output_type": "execute_result"
    }
   ],
   "source": [
    "rand_arr[:,0]"
   ]
  },
  {
   "cell_type": "code",
   "execution_count": 17,
   "metadata": {},
   "outputs": [
    {
     "data": {
      "text/plain": [
       "array([0.63548378, 0.93006347, 0.98536035])"
      ]
     },
     "execution_count": 17,
     "metadata": {},
     "output_type": "execute_result"
    }
   ],
   "source": [
    "rand_arr[0,:]"
   ]
  },
  {
   "cell_type": "code",
   "execution_count": 18,
   "metadata": {},
   "outputs": [
    {
     "data": {
      "text/plain": [
       "array([[ 0.63548378,  0.93006347],\n",
       "       [-1.        ,  0.56138726],\n",
       "       [ 0.81010022,  0.35116307]])"
      ]
     },
     "execution_count": 18,
     "metadata": {},
     "output_type": "execute_result"
    }
   ],
   "source": [
    "rand_arr[:,0:2]"
   ]
  },
  {
   "cell_type": "code",
   "execution_count": 19,
   "metadata": {},
   "outputs": [
    {
     "data": {
      "text/plain": [
       "array([[ 0.63548378,  0.93006347,  0.98536035],\n",
       "       [-1.        ,  0.        ,  0.        ],\n",
       "       [ 0.81010022,  0.        ,  0.        ]])"
      ]
     },
     "execution_count": 19,
     "metadata": {},
     "output_type": "execute_result"
    }
   ],
   "source": [
    "\n",
    "#rand_arr[1:3,1:3]\n",
    "rand_arr[1:3,1:3] = 0\n",
    "rand_arr"
   ]
  },
  {
   "cell_type": "code",
   "execution_count": 20,
   "metadata": {},
   "outputs": [
    {
     "data": {
      "text/plain": [
       "array([0.63548378, 0.        ])"
      ]
     },
     "execution_count": 20,
     "metadata": {},
     "output_type": "execute_result"
    }
   ],
   "source": [
    "rand_arr[(0,2),(0,1)]"
   ]
  },
  {
   "cell_type": "code",
   "execution_count": 21,
   "metadata": {},
   "outputs": [
    {
     "name": "stdout",
     "output_type": "stream",
     "text": [
      "[[ 0.63548378  0.93006347  0.98536035]\n",
      " [-1.         10.          0.        ]\n",
      " [ 0.81010022  0.          0.        ]]\n",
      "\n",
      "[[ 0.63548378  0.93006347  0.98536035]\n",
      " [-1.          0.          0.        ]\n",
      " [ 0.81010022  0.          0.        ]]\n"
     ]
    }
   ],
   "source": [
    "copy_arr = rand_arr.copy()\n",
    "copy_arr[1,1] = 10\n",
    "print(copy_arr)\n",
    "print()\n",
    "print(rand_arr)\n"
   ]
  },
  {
   "cell_type": "code",
   "execution_count": 22,
   "metadata": {},
   "outputs": [
    {
     "name": "stdout",
     "output_type": "stream",
     "text": [
      "[[False  True False  True]\n",
      " [ True False False False]\n",
      " [ True False  True  True]\n",
      " [ True  True  True False]]\n",
      "\n",
      "[281 422 325 138 149 322 222 367 403]\n"
     ]
    }
   ],
   "source": [
    "int_arr = np.random.randint(100,1000,(4,4))\n",
    "print(int_arr < 500)\n",
    "print()\n",
    "print(int_arr[int_arr < 500])"
   ]
  },
  {
   "cell_type": "code",
   "execution_count": 23,
   "metadata": {},
   "outputs": [
    {
     "data": {
      "text/plain": [
       "array([281, 325, 322, 222, 367])"
      ]
     },
     "execution_count": 23,
     "metadata": {},
     "output_type": "execute_result"
    }
   ],
   "source": [
    "bool_ndx = (int_arr >= 200) & (int_arr <= 400)\n",
    "int_arr[bool_ndx]"
   ]
  },
  {
   "cell_type": "code",
   "execution_count": 24,
   "metadata": {},
   "outputs": [
    {
     "data": {
      "text/plain": [
       "array([[False,  True, False,  True],\n",
       "       [ True, False,  True,  True],\n",
       "       [ True, False,  True,  True],\n",
       "       [ True,  True,  True, False]])"
      ]
     },
     "execution_count": 24,
     "metadata": {},
     "output_type": "execute_result"
    }
   ],
   "source": [
    "\n",
    "bool_ngre = ~(int_arr > 750)\n",
    "bool_ngre"
   ]
  },
  {
   "cell_type": "code",
   "execution_count": 25,
   "metadata": {},
   "outputs": [
    {
     "name": "stdout",
     "output_type": "stream",
     "text": [
      "[[138 281 149 322]\n",
      " [222 367 403 422]\n",
      " [325 758 677 706]\n",
      " [869 824 854 821]]\n"
     ]
    }
   ],
   "source": [
    "print(np.sort(int_arr,axis=0)) #sort columns"
   ]
  },
  {
   "cell_type": "code",
   "execution_count": 26,
   "metadata": {},
   "outputs": [
    {
     "name": "stdout",
     "output_type": "stream",
     "text": [
      "[[281 422 854 869]\n",
      " [325 677 706 758]\n",
      " [138 149 322 824]\n",
      " [222 367 403 821]]\n"
     ]
    }
   ],
   "source": [
    "print(np.sort(int_arr,axis=1)) #sort rows"
   ]
  },
  {
   "cell_type": "code",
   "execution_count": 27,
   "metadata": {},
   "outputs": [
    {
     "data": {
      "text/plain": [
       "array([[1., 1., 1.],\n",
       "       [1., 1., 1.],\n",
       "       [1., 1., 1.]])"
      ]
     },
     "execution_count": 27,
     "metadata": {},
     "output_type": "execute_result"
    }
   ],
   "source": [
    "arr_ones = np.ones((3,3))\n",
    "arr_ones"
   ]
  },
  {
   "cell_type": "code",
   "execution_count": 28,
   "metadata": {},
   "outputs": [
    {
     "data": {
      "text/plain": [
       "array([[4., 4., 4.],\n",
       "       [4., 4., 4.],\n",
       "       [4., 4., 4.]])"
      ]
     },
     "execution_count": 28,
     "metadata": {},
     "output_type": "execute_result"
    }
   ],
   "source": [
    "arr_ones = arr_ones + 3\n",
    "arr_ones"
   ]
  },
  {
   "cell_type": "code",
   "execution_count": 29,
   "metadata": {},
   "outputs": [
    {
     "data": {
      "text/plain": [
       "array([[21., 31., 41.],\n",
       "       [21., 31., 41.],\n",
       "       [21., 31., 41.]])"
      ]
     },
     "execution_count": 29,
     "metadata": {},
     "output_type": "execute_result"
    }
   ],
   "source": [
    "arr_ones = np.ones((3,3))\n",
    "arr_ones = arr_ones + np.array([20,30,40])\n",
    "arr_ones"
   ]
  },
  {
   "cell_type": "code",
   "execution_count": 30,
   "metadata": {},
   "outputs": [
    {
     "data": {
      "text/plain": [
       "array([[41., 61., 81.],\n",
       "       [41., 61., 81.],\n",
       "       [41., 61., 81.]])"
      ]
     },
     "execution_count": 30,
     "metadata": {},
     "output_type": "execute_result"
    }
   ],
   "source": [
    "#uses array from above\n",
    "arr_ones = arr_ones + np.array([20,30,40])\n",
    "arr_ones"
   ]
  },
  {
   "cell_type": "code",
   "execution_count": 31,
   "metadata": {},
   "outputs": [],
   "source": [
    "my_list = [[1,2,3]] * 10**8\n",
    "my_list;"
   ]
  },
  {
   "cell_type": "code",
   "execution_count": 32,
   "metadata": {},
   "outputs": [],
   "source": [
    "sum = 0\n",
    "for row in my_list:\n",
    "    for cell in row:\n",
    "        sum == cell"
   ]
  },
  {
   "cell_type": "code",
   "execution_count": 33,
   "metadata": {},
   "outputs": [],
   "source": [
    "my_list_arr = np.array(my_list)"
   ]
  },
  {
   "cell_type": "code",
   "execution_count": 34,
   "metadata": {},
   "outputs": [
    {
     "data": {
      "text/plain": [
       "(100000000, 3)"
      ]
     },
     "execution_count": 34,
     "metadata": {},
     "output_type": "execute_result"
    }
   ],
   "source": [
    "my_arr = np.tile([1,2,3],  (10**8,1))\n",
    "\n",
    "my_arr.shape"
   ]
  },
  {
   "cell_type": "code",
   "execution_count": 35,
   "metadata": {},
   "outputs": [
    {
     "data": {
      "text/plain": [
       "600000000"
      ]
     },
     "execution_count": 35,
     "metadata": {},
     "output_type": "execute_result"
    }
   ],
   "source": [
    "my_list_arr.sum()\n"
   ]
  },
  {
   "cell_type": "code",
   "execution_count": 36,
   "metadata": {},
   "outputs": [
    {
     "data": {
      "text/plain": [
       "600000000"
      ]
     },
     "execution_count": 36,
     "metadata": {},
     "output_type": "execute_result"
    }
   ],
   "source": [
    "my_arr.sum()\n"
   ]
  },
  {
   "cell_type": "code",
   "execution_count": 37,
   "metadata": {},
   "outputs": [
    {
     "data": {
      "text/plain": [
       "array([100000000, 200000000, 300000000])"
      ]
     },
     "execution_count": 37,
     "metadata": {},
     "output_type": "execute_result"
    }
   ],
   "source": [
    "my_arr.sum(axis=0) #sum of columns\n"
   ]
  },
  {
   "cell_type": "code",
   "execution_count": 38,
   "metadata": {},
   "outputs": [
    {
     "data": {
      "text/plain": [
       "array([6, 6, 6, ..., 6, 6, 6])"
      ]
     },
     "execution_count": 38,
     "metadata": {},
     "output_type": "execute_result"
    }
   ],
   "source": [
    "my_arr.sum(axis=1) #sum of rows"
   ]
  },
  {
   "cell_type": "code",
   "execution_count": 39,
   "metadata": {},
   "outputs": [],
   "source": [
    "arr_one = np.ones((3,3))\n",
    "arr_two = np.array([20,30,40])\n",
    "\n"
   ]
  },
  {
   "cell_type": "code",
   "execution_count": 40,
   "metadata": {},
   "outputs": [
    {
     "data": {
      "text/plain": [
       "array([[ 1.,  1.,  1., 20.],\n",
       "       [ 1.,  1.,  1., 30.],\n",
       "       [ 1.,  1.,  1., 40.]])"
      ]
     },
     "execution_count": 40,
     "metadata": {},
     "output_type": "execute_result"
    }
   ],
   "source": [
    "np.column_stack((arr_one, arr_two.T)) #transpose turns row into column"
   ]
  },
  {
   "cell_type": "code",
   "execution_count": 41,
   "metadata": {},
   "outputs": [
    {
     "data": {
      "text/plain": [
       "array([[  1.,   1.,   1., 100.],\n",
       "       [  1.,   1.,   1., 200.],\n",
       "       [  1.,   1.,   1., 300.]])"
      ]
     },
     "execution_count": 41,
     "metadata": {},
     "output_type": "execute_result"
    }
   ],
   "source": [
    "np.c_[arr_one,[100,200,300]]"
   ]
  },
  {
   "cell_type": "code",
   "execution_count": 42,
   "metadata": {},
   "outputs": [
    {
     "data": {
      "text/plain": [
       "array([[  1,   2,   3],\n",
       "       [ 10,  20,  30],\n",
       "       [100, 200, 300]])"
      ]
     },
     "execution_count": 42,
     "metadata": {},
     "output_type": "execute_result"
    }
   ],
   "source": [
    "np.r_[[[1,2,3]],[[10,20,30]],[[100,200,300]]]"
   ]
  },
  {
   "cell_type": "code",
   "execution_count": 43,
   "metadata": {},
   "outputs": [
    {
     "data": {
      "text/plain": [
       "array([[ 1.,  1.,  1.],\n",
       "       [ 1.,  1.,  1.],\n",
       "       [ 1.,  1.,  1.],\n",
       "       [11., 22., 33.]])"
      ]
     },
     "execution_count": 43,
     "metadata": {},
     "output_type": "execute_result"
    }
   ],
   "source": [
    "np.r_[arr_one,[[11,22,33]]]"
   ]
  },
  {
   "cell_type": "code",
   "execution_count": 44,
   "metadata": {},
   "outputs": [
    {
     "data": {
      "text/plain": [
       "array([1., 2., 3.])"
      ]
     },
     "execution_count": 44,
     "metadata": {},
     "output_type": "execute_result"
    }
   ],
   "source": [
    "my_arr.mean(axis=0)"
   ]
  },
  {
   "cell_type": "code",
   "execution_count": 48,
   "metadata": {},
   "outputs": [
    {
     "data": {
      "text/plain": [
       "array([[11, 17,  9],\n",
       "       [ 1, 11,  6],\n",
       "       [ 8,  9,  4],\n",
       "       [13, 11, 13]])"
      ]
     },
     "execution_count": 48,
     "metadata": {},
     "output_type": "execute_result"
    }
   ],
   "source": [
    "me_ints = np.random.randint(0,20,size=(4,3))\n",
    "me_ints"
   ]
  },
  {
   "cell_type": "code",
   "execution_count": 50,
   "metadata": {},
   "outputs": [
    {
     "data": {
      "text/plain": [
       "array([[False, False,  True],\n",
       "       [ True, False,  True],\n",
       "       [ True,  True,  True],\n",
       "       [False, False, False]])"
      ]
     },
     "execution_count": 50,
     "metadata": {},
     "output_type": "execute_result"
    }
   ],
   "source": [
    "mask_me_ints = me_ints < 10 \n",
    "mask_me_ints"
   ]
  },
  {
   "cell_type": "code",
   "execution_count": 51,
   "metadata": {},
   "outputs": [
    {
     "name": "stdout",
     "output_type": "stream",
     "text": [
      "[[11 17 --]\n",
      " [-- 11 --]\n",
      " [-- -- --]\n",
      " [13 11 13]]\n"
     ]
    }
   ],
   "source": [
    "me_ints_masked = np.ma.masked_array(\n",
    "    me_ints, mask=mask_me_ints\n",
    ")\n",
    "\n",
    "print(me_ints_masked)"
   ]
  },
  {
   "cell_type": "code",
   "execution_count": 52,
   "metadata": {},
   "outputs": [
    {
     "data": {
      "text/plain": [
       "76"
      ]
     },
     "execution_count": 52,
     "metadata": {},
     "output_type": "execute_result"
    }
   ],
   "source": [
    "me_ints_masked.sum()"
   ]
  },
  {
   "cell_type": "code",
   "execution_count": 68,
   "metadata": {},
   "outputs": [
    {
     "data": {
      "text/plain": [
       "array([5.30471708, 3.96001589, 5.7504512 , 5.94056472, 3.04896481,\n",
       "       3.69782049, 5.1278404 , 4.68375741, 4.98319884, 4.14695607,\n",
       "       5.87939797, 5.77779194, 5.0660307 , 6.12724121, 5.46750934,\n",
       "       4.14070754, 5.36875078, 4.0411174 , 5.8784503 , 4.95007409,\n",
       "       4.81513764, 4.31907046, 6.22254134, 4.84547052, 4.57167218,\n",
       "       4.64786645, 5.53230919, 5.36544406, 5.41273261, 5.430821  ,\n",
       "       7.1416476 , 4.59358498, 4.48775727, 4.18622727, 5.61597942,\n",
       "       6.12897229, 4.88605254, 4.15984352, 4.17551878, 5.65059279,\n",
       "       5.74325417, 5.54315427, 4.33449029, 5.23216132, 5.11668581,\n",
       "       5.2186886 , 5.87142878, 5.22359555, 5.67891356, 5.06757907,\n",
       "       5.2891194 , 5.63128823, 3.54284418, 4.68032878, 4.52962735,\n",
       "       4.36112215, 4.72485775, 6.49494131, 4.13416888, 5.96827835,\n",
       "       3.31713023, 4.66511497, 5.16275307, 5.58622233, 5.71122658,\n",
       "       5.79334724, 4.65127493, 4.53764821, 5.85797588, 4.80869568,\n",
       "       3.72431368, 3.86671279, 4.08054771, 5.49716074, 5.14242574,\n",
       "       5.69048535, 4.57274735, 5.15853969, 5.62559039, 4.69065346,\n",
       "       5.45677524, 4.33807406, 4.63694615, 4.61826211, 3.80416035,\n",
       "       5.48697248, 4.53059766, 5.01249412, 5.48074666, 5.44653118,\n",
       "       5.66538511, 4.90151452, 4.57670169, 4.92028179, 3.31266557,\n",
       "       3.55288753, 3.67730039, 4.00275317, 5.39977423, 4.09452094,\n",
       "       4.62183745, 6.2992283 , 4.64373603, 5.73751557, 4.06638232,\n",
       "       4.79456244, 4.04997795, 4.66096692, 5.84030814, 3.27267958,\n",
       "       5.43442364, 5.2377356 , 4.40585004, 3.55394215, 5.07212951,\n",
       "       4.47050729, 5.23267621, 5.02185215, 6.60177889, 4.76064437,\n",
       "       3.97650251, 5.17927563, 5.21999668, 6.35918758, 5.83511125,\n",
       "       5.35687106, 6.46330289, 3.81123695, 4.36024847, 4.07342406,\n",
       "       4.6101902 , 3.62331385, 5.63515095, 4.7777773 , 3.52919371,\n",
       "       3.98442092, 5.31351385, 5.83812657, 6.99673089, 7.91386247,\n",
       "       5.41440943, 4.01046188, 2.86795372, 5.26771146, 4.1870589 ,\n",
       "       4.58464274, 4.3879032 , 4.85920911, 6.06598023, 5.15704857,\n",
       "       4.84136516, 3.96434625, 3.32531706, 4.51369209, 4.94621745,\n",
       "       6.76792991, 5.13027452, 5.98273951, 4.5007044 , 3.81505623,\n",
       "       4.03488324, 4.27477394, 7.12846973, 4.17861332, 5.8384892 ,\n",
       "       4.09707282, 5.93157301, 5.38495097, 4.8433621 , 4.95923747,\n",
       "       4.3452123 , 5.4460722 , 4.54501652, 3.77439424, 3.72206243,\n",
       "       5.17258792, 6.57909126, 5.15999161, 4.88136167, 5.28582614,\n",
       "       6.30600174, 5.2193825 , 4.58907277, 6.10628871, 5.42875644,\n",
       "       6.53575599, 5.18323444, 3.77553097, 3.6318408 , 6.65092793,\n",
       "       6.72366572, 4.82048079, 4.61681268, 6.46144429, 3.89295432,\n",
       "       4.10527298, 5.64332679, 4.60539488, 4.99487813, 4.8365571 ,\n",
       "       5.33757455, 6.40748186, 5.09058491, 5.64393879, 2.9498279 ,\n",
       "       4.9512816 , 4.15676973, 3.78118694, 4.12184763, 4.66587656,\n",
       "       5.91590254, 3.67360728, 5.03063149, 4.51583057, 4.67232691,\n",
       "       6.00275783, 5.53811544, 6.33739811, 4.84549432, 4.30405739,\n",
       "       4.77614118, 5.24249679, 5.17657336, 3.91561193, 5.09048978,\n",
       "       5.22822833, 7.51747404, 6.87684461, 4.14675665, 4.71261664,\n",
       "       3.536558  , 4.40929299, 5.315605  , 6.20585362, 4.27091616,\n",
       "       4.34585356, 2.85271097, 4.83733408, 3.93758559, 4.47056057,\n",
       "       4.12313922, 4.90573745, 3.24227161, 3.53295475, 7.12924711,\n",
       "       3.71257742, 3.90321442, 6.83691353, 7.90506717, 3.82843337,\n",
       "       4.63175104, 5.34155555, 6.72869764, 4.01314292, 4.75472215,\n",
       "       5.77733758, 5.43476607, 4.62384393, 4.86617704, 3.62510419,\n",
       "       4.76182626, 4.73361251, 5.23216989, 4.44467278, 5.47153852,\n",
       "       6.01271582, 5.15542933, 5.35175641, 5.05315535, 5.00008439,\n",
       "       4.27844197, 5.31649426, 4.9027134 , 7.09316831, 6.5733549 ,\n",
       "       5.38584655, 4.23694279, 3.88758853, 6.19114295, 5.26274923,\n",
       "       5.4801434 , 3.25541401, 5.92743848, 5.45442034, 3.88956932,\n",
       "       4.52847519, 5.2637172 , 5.0524668 , 4.70782881, 4.89651173,\n",
       "       4.74802262, 5.15256251, 6.47149197, 2.43334156, 4.76314974,\n",
       "       5.17651242, 5.29599399, 4.62808542, 3.24327822, 5.32799548,\n",
       "       6.72735021, 3.4661386 , 5.86382801, 4.67147478, 4.93867565,\n",
       "       3.94710149, 4.66554383, 6.30004459, 5.58265524, 6.73231161,\n",
       "       6.17741189, 5.43908668, 6.74393453, 5.43899316, 5.82798818,\n",
       "       4.70342905, 5.06654582, 4.30257618, 5.98958393, 3.82169638,\n",
       "       5.78235034, 4.80934894, 6.17124709, 5.75086899, 6.82064616,\n",
       "       5.73077469, 3.42795974, 4.93304683, 3.82799281, 4.48172016,\n",
       "       6.51122843, 5.63753381, 4.30106957, 3.98628263, 5.03278209,\n",
       "       3.78343985, 4.32885972, 5.31200947, 6.15531204, 5.60876147,\n",
       "       2.70871049, 5.30436673, 5.07203357, 5.41389029, 6.61620968,\n",
       "       2.93676172, 4.40889657, 5.59090632, 3.4184056 , 6.47594905,\n",
       "       5.36835661, 5.84658399, 4.42905634, 5.81376369, 6.06847156,\n",
       "       5.23287802, 5.23440089, 5.27034324, 4.13665474, 4.85247132,\n",
       "       4.84747747, 5.38339386, 5.99982425, 3.94146392, 4.87499097,\n",
       "       6.48145555, 4.25641177, 4.17774998, 5.20230619, 5.84438519,\n",
       "       5.01142606, 6.32896059, 5.85679398, 5.84182007, 5.5541165 ,\n",
       "       7.3276531 , 4.79483831, 2.99647771, 6.60425436, 4.54230057,\n",
       "       5.10788044, 6.30955068, 3.39774046, 3.74835279, 3.39872206,\n",
       "       4.20586371, 5.43963661, 5.52418784, 5.27627418, 3.58723412,\n",
       "       2.68989656, 5.05435359, 4.52822397, 5.45938577, 5.70195363,\n",
       "       5.13824143, 5.76013309, 5.22921137, 5.53006471, 4.29532674,\n",
       "       4.82038859, 5.1967761 , 5.82052848, 4.60625883, 5.52116726,\n",
       "       4.73416121, 4.88245783, 5.82951904, 3.00693963, 3.70352767,\n",
       "       3.5178146 , 2.66638388, 4.32173556, 5.7494339 , 4.71511593,\n",
       "       5.19779008, 6.0892175 , 6.32768613, 4.93086207, 6.35358589,\n",
       "       5.09212666, 4.16260178, 4.40559965, 3.51946349, 4.11186615,\n",
       "       4.64198331, 5.80358502, 6.72076983, 3.61781848, 5.39282747,\n",
       "       3.95945606, 5.47469709, 4.86891335, 3.16909417, 5.92829699,\n",
       "       4.39499929, 4.46609976, 3.93024759, 4.34571672, 5.42789044,\n",
       "       4.81075566, 5.328662  , 5.36192185, 6.32066166, 4.65721385,\n",
       "       3.52314218, 6.06722242, 4.66851183, 6.11459244, 5.38337711,\n",
       "       4.86886247, 5.34877589, 6.95101256, 7.07698053, 5.06938114,\n",
       "       5.16019059, 6.07624016, 4.15433897, 5.33307037, 4.97413715,\n",
       "       5.31390821, 4.16663119, 3.41043251, 2.92701656, 3.88261589,\n",
       "       4.54132472, 4.70680841, 6.93723116, 6.10599337, 4.03790888,\n",
       "       5.34770845, 4.59292176, 4.71563616, 5.18532565, 5.61917112,\n",
       "       4.66074152, 6.06385153, 3.85806177, 5.00633906, 7.59767373,\n",
       "       5.22307974, 6.43321451, 5.09152018, 5.5807771 , 4.94321681,\n",
       "       4.82959242, 4.2205176 , 5.43030136, 4.14846281, 5.66558524,\n",
       "       6.085287  , 5.36653141, 4.71375127, 5.45396558, 4.69132694,\n",
       "       5.93554713, 3.16859392, 4.66439263, 3.009188  , 3.50493917,\n",
       "       6.36386223, 5.89518498, 4.28051977, 3.49749654, 2.03547116,\n",
       "       4.45650449, 7.42041501, 5.43488427, 4.44042771, 5.46508021,\n",
       "       3.43904165, 4.70267664, 5.09947747, 4.91389935, 5.79080612,\n",
       "       5.34464523, 5.66832602, 4.31162772, 5.89781541, 6.62893695,\n",
       "       4.02985048, 4.11230434, 6.33578434, 4.80865601, 6.40382139,\n",
       "       4.55746429, 6.45504558, 5.13148582, 5.25822882, 6.56471802,\n",
       "       4.63822952, 4.0588779 , 4.55143579, 5.45233395, 3.43424093,\n",
       "       5.6374709 , 4.46122868, 6.14781266, 2.6057397 , 4.21343422,\n",
       "       3.31353185, 4.17377053, 5.2476659 , 4.82077337, 4.74662243,\n",
       "       4.84081513, 5.20338824, 3.99146396, 5.70684964, 5.66266597,\n",
       "       5.38503794, 5.55653344, 5.296418  , 7.0350733 , 4.91290583,\n",
       "       4.69291678, 4.24647242, 3.96773733, 3.75552821, 4.11120269,\n",
       "       4.92931962, 5.33429513, 5.05114206, 4.23446472, 5.90018456,\n",
       "       5.73941267, 4.84035169, 4.34708386, 5.54842792, 5.18797359,\n",
       "       3.55187274, 4.93201974, 5.26203581, 4.10030521, 5.18984339,\n",
       "       3.54517751, 6.3361861 , 6.24794999, 4.74748267, 5.36345434,\n",
       "       2.59007803, 3.84365234, 4.70622108, 3.92786698, 5.71439648,\n",
       "       6.99729653, 3.82338528, 4.1625366 , 5.23544837, 6.61111615,\n",
       "       3.77762569, 5.24903612, 6.82129885, 3.34824085, 3.71893079,\n",
       "       4.57639339, 4.47941159, 5.81260129, 5.24165972, 3.22503794,\n",
       "       5.5154104 , 4.42246111, 6.27444722, 4.37241246, 4.36338472,\n",
       "       5.54113161, 5.76292648, 5.44809936, 3.31440268, 5.53803444,\n",
       "       3.96569195, 5.23527611, 3.57626556, 5.44632215, 4.1934011 ,\n",
       "       3.71736535, 5.71382014, 5.24164452, 4.3860232 , 6.45117885,\n",
       "       4.55934758, 5.03210767, 5.26891345, 4.38033407, 5.47113629,\n",
       "       4.46654765, 4.58836168, 6.36264264, 3.95941395, 2.58721967,\n",
       "       6.610937  , 7.54932795, 4.59473073, 3.06316196, 4.68951602,\n",
       "       4.71377705, 4.81007616, 3.88661196, 5.57956114, 5.52450738,\n",
       "       3.50559438, 5.69919673, 7.05268498, 5.17196033, 4.66267484,\n",
       "       4.85799679, 5.61525677, 3.26932839, 5.1643907 , 4.60953605,\n",
       "       6.84782501, 4.82582727, 6.66788761, 3.8962593 , 5.58725917,\n",
       "       5.31940026, 4.13095275, 5.17739611, 6.21251884, 4.6762083 ,\n",
       "       3.30803735, 4.98243717, 4.09757691, 4.65765906, 4.91841223,\n",
       "       3.29434778, 3.38434166, 5.48206684, 4.4772813 , 2.43525566,\n",
       "       5.78484404, 5.27236976, 4.28612518, 3.68316979, 5.8358079 ,\n",
       "       5.34935062, 7.38260228, 5.4201886 , 5.38770314, 4.83307207,\n",
       "       5.81677587, 5.6250852 , 6.25172501, 4.47867708, 4.56459253,\n",
       "       4.52089683, 5.79080172, 6.49837444, 4.54115951, 4.57522627,\n",
       "       5.31407722, 4.7542385 , 5.95205365, 2.74822271, 4.17329495,\n",
       "       4.21758367, 2.67964399, 4.03636156, 4.08484388, 4.79889535,\n",
       "       6.11296589, 4.75493935, 3.96918628, 4.94304546, 6.04917362,\n",
       "       4.02404118, 4.08942512, 5.55854896, 4.77846388, 5.64748469,\n",
       "       4.98635321, 5.70166365, 3.96492189, 4.98791535, 4.78930999,\n",
       "       3.78410908, 3.43652205, 5.68574904, 4.64904762, 3.97771972,\n",
       "       4.90382106, 6.12801886, 2.71926215, 3.50336131, 4.07711356,\n",
       "       6.46117887, 5.28258698, 5.76731724, 3.85983908, 3.88046412,\n",
       "       5.44781372, 5.05827433, 5.54873882, 4.81232901, 5.27814373,\n",
       "       5.15811908, 5.77776739, 5.80700828, 3.38012801, 2.75273144,\n",
       "       6.0017454 , 6.18772509, 3.97937698, 3.14016459, 5.09903482,\n",
       "       5.93083823, 6.79759452, 5.51629757, 4.6282833 , 4.10686938,\n",
       "       5.01145129, 4.7007353 , 3.98493209, 7.04875565, 6.7851684 ,\n",
       "       6.13604868, 4.0791496 , 5.85501932, 5.63962641, 5.44254562,\n",
       "       6.24966527, 5.63537114, 5.74001424, 5.63690628, 5.34079141,\n",
       "       3.21638887, 5.08362108, 4.44380804, 3.72015904, 6.68181662,\n",
       "       6.72899534, 6.3592206 , 5.25521342, 6.35062512, 5.01205318,\n",
       "       5.20279728, 3.90652863, 5.3969913 , 5.06038593, 3.69734788,\n",
       "       4.94880289, 4.92027044, 6.79756117, 5.89421333, 5.01144544,\n",
       "       5.24878731, 5.04421238, 4.79708602, 3.9175728 , 4.84894812,\n",
       "       4.25390174, 3.74968446, 5.51122181, 5.39126466, 3.21329249,\n",
       "       4.87731536, 5.99570139, 6.05922374, 6.02583684, 5.03891321,\n",
       "       4.15495467, 3.91630117, 5.3446049 , 5.37928003, 6.28733111,\n",
       "       6.09997965, 4.86777134, 3.75579412, 4.6808934 , 5.21723119,\n",
       "       4.79791675, 4.42210589, 5.25288481, 4.49604226, 4.37193392,\n",
       "       5.31145283, 4.59800742, 5.24410439, 5.27320402, 3.860571  ,\n",
       "       4.51875888, 6.43777694, 3.83792049, 2.88334555, 3.13815485,\n",
       "       5.02910995, 5.03091728, 4.88238914, 6.21418983, 2.32716557,\n",
       "       5.39593387, 6.5614382 , 3.87221924, 4.62019349, 4.24710808,\n",
       "       4.10565395, 4.67373799, 6.42748528, 6.83738668, 4.66406077,\n",
       "       6.90506021, 5.03557648, 6.75369103, 4.90670135, 5.13105783,\n",
       "       5.36547447, 8.17885368, 5.85128557, 4.29273547, 5.96899787,\n",
       "       4.63816746, 4.51024982, 5.90860136, 5.03108559, 5.27857591,\n",
       "       5.01398522, 5.33658313, 5.4249659 , 3.06303307, 5.66657267,\n",
       "       4.01798058, 3.55770086, 4.94158876, 5.083981  , 4.30649384,\n",
       "       5.83103186, 3.65782483, 4.59305625, 4.41512587, 4.95341273,\n",
       "       5.27886428, 3.99210705, 5.72428268, 5.06300237, 3.10805375,\n",
       "       3.04140856, 4.98768071, 4.77903268, 4.89657989, 4.97201754,\n",
       "       5.22555984, 5.94764961, 3.8888951 , 3.82802841, 3.90667614,\n",
       "       5.28891667, 6.24494738, 4.56866056, 2.49830016, 3.29600714,\n",
       "       4.16696328, 4.44227111, 4.59161137, 5.03858112, 4.68825367,\n",
       "       6.04933961, 4.32398269, 4.13768204, 5.47887554, 3.46435793,\n",
       "       5.38969171, 5.10255318, 4.85255751, 6.58827611, 4.37779255,\n",
       "       7.06029817, 4.77456855, 3.72298356, 5.06991958, 3.9237548 ,\n",
       "       4.24824415, 5.3970333 , 5.55558209, 4.3778323 , 5.98740515,\n",
       "       6.15750776, 6.43630176, 5.52941341, 6.36342871, 3.11920157,\n",
       "       4.68209345, 4.13299474, 5.11922586, 4.42855078, 4.83384216,\n",
       "       6.88217488, 4.8302802 , 5.41379232, 4.76773067, 5.07571329,\n",
       "       5.00601668, 5.44832407, 6.16530754, 6.647394  , 5.30962008,\n",
       "       5.58954689, 3.84913549, 4.91212326, 5.94028946, 5.86596864,\n",
       "       5.21160973, 5.88639396, 5.49076671, 6.20030626, 5.28935916,\n",
       "       4.64430168, 5.33584126, 2.06940562, 5.38288574, 1.35158717,\n",
       "       3.27653659, 5.4517686 , 5.47752934, 3.83757122, 4.28789796,\n",
       "       6.37054099, 4.51596987, 7.24292031, 4.99808015, 5.40803618,\n",
       "       6.6168744 , 5.13102712, 3.99765602, 4.89027255, 4.96438926,\n",
       "       3.63525835, 4.74416793, 4.25780791, 5.92435776, 5.03461187,\n",
       "       4.71720425, 4.89381807, 5.22312202, 5.6168142 , 4.00028777,\n",
       "       3.95841237, 6.10467922, 4.58766313, 3.58315791, 5.44381271,\n",
       "       5.46336981, 3.46928474, 5.22948172, 5.73558309, 5.37438645,\n",
       "       5.63198148, 3.5957309 , 5.33104015, 4.69738024, 4.51720984,\n",
       "       5.87055561, 6.47927451, 6.79437005, 6.31480787, 4.89026582,\n",
       "       5.35272016, 5.76682287, 5.12117795, 5.13076419, 5.82375313])"
      ]
     },
     "execution_count": 68,
     "metadata": {},
     "output_type": "execute_result"
    }
   ],
   "source": [
    "generator = np.random.default_rng(seed=42)\n",
    "dist_normal = generator.normal(5,1,1000)\n",
    "#dist_normal = generator.uniform(1,5,1000)\n",
    "dist_normal\n"
   ]
  },
  {
   "cell_type": "code",
   "execution_count": 69,
   "metadata": {},
   "outputs": [
    {
     "data": {
      "text/plain": [
       "<AxesSubplot:ylabel='Count'>"
      ]
     },
     "execution_count": 69,
     "metadata": {},
     "output_type": "execute_result"
    },
    {
     "data": {
      "image/png": "[encoded data removed]",
      "text/plain": [
       "<Figure size 432x288 with 1 Axes>"
      ]
     },
     "metadata": {
      "needs_background": "light"
     },
     "output_type": "display_data"
    }
   ],
   "source": [
    "import seaborn as sns\n",
    "sns.histplot(dist_normal,kde=True)"
   ]
  },
  {
   "cell_type": "code",
   "execution_count": 70,
   "metadata": {},
   "outputs": [],
   "source": [
    "my_range = np.arange(0,11)\n",
    "#np.random.shuffle(my_range)\n",
    "#my_range\n"
   ]
  },
  {
   "cell_type": "code",
   "execution_count": 71,
   "metadata": {},
   "outputs": [
    {
     "data": {
      "text/plain": [
       "array([ 0,  8,  7,  9,  1,  5,  4,  6,  2, 10,  3])"
      ]
     },
     "execution_count": 71,
     "metadata": {},
     "output_type": "execute_result"
    }
   ],
   "source": [
    "generator.shuffle(my_range)\n",
    "my_range"
   ]
  },
  {
   "cell_type": "code",
   "execution_count": 72,
   "metadata": {},
   "outputs": [
    {
     "data": {
      "text/plain": [
       "array([[1, 1],\n",
       "       [2, 2]])"
      ]
     },
     "execution_count": 72,
     "metadata": {},
     "output_type": "execute_result"
    }
   ],
   "source": [
    "centroids = np.r_[[[1,1]],[[2,2]]]\n",
    "centroids"
   ]
  },
  {
   "cell_type": "code",
   "execution_count": 84,
   "metadata": {},
   "outputs": [
    {
     "data": {
      "text/plain": [
       "Text(0, 0.5, 'y')"
      ]
     },
     "execution_count": 84,
     "metadata": {},
     "output_type": "execute_result"
    },
    {
     "data": {
      "image/png": "[encoded data removed]",
      "text/plain": [
       "<Figure size 432x288 with 1 Axes>"
      ]
     },
     "metadata": {
      "needs_background": "light"
     },
     "output_type": "display_data"
    }
   ],
   "source": [
    "import matplotlib.pyplot as plt\n",
    "fig = plt.subplot(1,1,1)\n",
    "ax = sns.scatterplot(x=centroids[:,0], y=centroids[:,1], color='g',marker='*',s=200)\n",
    "ax.set_xlabel('x')\n",
    "ax.set_ylabel('y')"
   ]
  },
  {
   "cell_type": "code",
   "execution_count": 85,
   "metadata": {},
   "outputs": [
    {
     "data": {
      "text/plain": [
       "Text(0, 0.5, 'y')"
      ]
     },
     "execution_count": 85,
     "metadata": {},
     "output_type": "execute_result"
    },
    {
     "data": {
      "image/png": "[encoded data removed]",
      "text/plain": [
       "<Figure size 432x288 with 1 Axes>"
      ]
     },
     "metadata": {
      "needs_background": "light"
     },
     "output_type": "display_data"
    }
   ],
   "source": [
    "points = np.r_[\n",
    "    [[0,0]],\n",
    "    [[1.5,1]],\n",
    "    [[3,3]]\n",
    "]\n",
    "ax = sns.scatterplot(x=centroids[:,0], y=centroids[:,1], color='g',marker='*',s=200)\n",
    "ax.set_xlabel('x')\n",
    "ax.set_ylabel('y')\n",
    "sns.scatterplot(x=points[:,0], y=points[:,1], color='c',marker='o',s=100)\n",
    "ax.set_xlabel('x')\n",
    "ax.set_ylabel('y')\n",
    "\n"
   ]
  },
  {
   "cell_type": "code",
   "execution_count": 81,
   "metadata": {},
   "outputs": [
    {
     "data": {
      "text/plain": [
       "array([[1.41421356, 2.82842712],\n",
       "       [0.5       , 1.11803399],\n",
       "       [2.82842712, 1.41421356]])"
      ]
     },
     "execution_count": 81,
     "metadata": {},
     "output_type": "execute_result"
    }
   ],
   "source": [
    "from scipy.spatial import distance\n",
    "pw_dist = distance.cdist(points,centroids)\n",
    "pw_dist"
   ]
  },
  {
   "cell_type": "code",
   "execution_count": 86,
   "metadata": {},
   "outputs": [
    {
     "data": {
      "text/plain": [
       "array([0, 0, 1])"
      ]
     },
     "execution_count": 86,
     "metadata": {},
     "output_type": "execute_result"
    }
   ],
   "source": [
    "labels = np.argmin(pw_dist,axis=1) # get min column ndx per row\n",
    "labels # the index is the centroids index that is closest to the point"
   ]
  },
  {
   "cell_type": "code",
   "execution_count": 87,
   "metadata": {},
   "outputs": [
    {
     "data": {
      "text/plain": [
       "array([[1, 1],\n",
       "       [1, 1],\n",
       "       [2, 2]])"
      ]
     },
     "execution_count": 87,
     "metadata": {},
     "output_type": "execute_result"
    }
   ],
   "source": [
    "centroids[labels] # location of the nearest centroid"
   ]
  },
  {
   "cell_type": "code",
   "execution_count": null,
   "metadata": {},
   "outputs": [],
   "source": []
  }
 ],
 "metadata": {
  "interpreter": {
   "hash": "076200bc8544d02046afd6adaea40eec676b1056c1fadd273a4d7ce7d414d049"
  },
  "kernelspec": {
   "display_name": "Python 3.9.10 ('CSE801A')",
   "language": "python",
   "name": "python3"
  },
  "language_info": {
   "codemirror_mode": {
    "name": "ipython",
    "version": 3
   },
   "file_extension": ".py",
   "mimetype": "text/x-python",
   "name": "python",
   "nbconvert_exporter": "python",
   "pygments_lexer": "ipython3",
   "version": "3.9.10"
  },
  "orig_nbformat": 4
 },
 "nbformat": 4,
 "nbformat_minor": 2
}
