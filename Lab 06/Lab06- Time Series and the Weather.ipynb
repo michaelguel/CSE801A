{
 "cells": [
  {
   "cell_type": "markdown",
   "metadata": {},
   "source": [
    "# Lab06: Time Series in Pandas"
   ]
  },
  {
   "cell_type": "markdown",
   "metadata": {},
   "source": [
    "## Temperature Time Series\n",
    "\n",
    "I would like you to download the LAN-WX.csv file into your working directory for this notebook and use it for today's exercise.  Provided the page is up (it wasn't earlier), you can find documentation about each of the columns in the CSV file here: \n",
    "https://www1.ncdc.noaa.gov/pub/data/cdo/documentation/GHCND_documentation.pdf\n",
    "\n",
    "For the purposes of our exercise, we are most interested in these columns:\n",
    "* DATE\n",
    "* TMIN the minimum daily temperature\n",
    "* TMAX the maximum daily temperature\n",
    "\n",
    "I would like you to do the following:\n",
    "* As with today's lecture, convert the DATE column into a temporal-based index for the data frame.\n",
    "* Using this and the methods from today, I'd like you to do the following:\n",
    "    1. Display a table that shows the maximum daily temperatures for each month in the year 2013.\n",
    "    2. Find the maximum temperature in Lansing for the day of your birth and each birthday thereafter and plot it as a violin plot and histogram using Seaborn.\n",
    "    3. Find the decade maximum high and low temperature from 1950.  Plot both the maximum and minimum values as a single line plot.\n",
    "    4. This class started on Jaunary 11, 2020 and runs for 16 weeks. It meets on Mondays and Wednesdays. Use boxplots to plot the historical distribution from 1960 onward of high temperatures for each date we meet this semester.  In other words, plot the range of maximum temperatures for each (month,day) value in the 2020 course calendar across all years from 1960 onward.\n",
    "    5. The number of 90&deg;F days per year are often used to describe climate change.  Plot the average number of 90&deg;F days as a rolling average over 5 years across the entire data set. \n",
    "    \n",
    "**Create markdown cells to annotate your work using the directions above to create cells with level-2 headings** and the descriptions above in them.  (You do remember your Markdown?)\n",
    "\n",
    "Note:  You will likely have to use Google and the Pandas documnetation quite a bit to answer the questions above.  This is normal!  "
   ]
  },
  {
   "cell_type": "code",
   "execution_count": 424,
   "metadata": {},
   "outputs": [],
   "source": [
    "import pandas as pd\n",
    "import datetime\n",
    "import dateutil\n",
    "import seaborn as sns\n",
    "import matplotlib.pyplot as plt\n",
    "import numpy as np"
   ]
  },
  {
   "cell_type": "markdown",
   "metadata": {},
   "source": [
    "## Load in the weather data\n",
    "\n",
    "Load in the `LAN-WX.csv` file into a data frame, keeping just the DATE, TMIN, and TMAX columns.\n",
    "\n",
    "Make `DATE` the index; convert it to daily periods.  You may drop the additional DATE column when you set it as the index.  (See set_index for more information)"
   ]
  },
  {
   "cell_type": "code",
   "execution_count": 425,
   "metadata": {},
   "outputs": [
    {
     "data": {
      "text/html": [
       "<div>\n",
       "<style scoped>\n",
       "    .dataframe tbody tr th:only-of-type {\n",
       "        vertical-align: middle;\n",
       "    }\n",
       "\n",
       "    .dataframe tbody tr th {\n",
       "        vertical-align: top;\n",
       "    }\n",
       "\n",
       "    .dataframe thead th {\n",
       "        text-align: right;\n",
       "    }\n",
       "</style>\n",
       "<table border=\"1\" class=\"dataframe\">\n",
       "  <thead>\n",
       "    <tr style=\"text-align: right;\">\n",
       "      <th></th>\n",
       "      <th>TMAX</th>\n",
       "      <th>TMIN</th>\n",
       "    </tr>\n",
       "    <tr>\n",
       "      <th>DATE</th>\n",
       "      <th></th>\n",
       "      <th></th>\n",
       "    </tr>\n",
       "  </thead>\n",
       "  <tbody>\n",
       "    <tr>\n",
       "      <th>2019-01-01</th>\n",
       "      <td>34.0</td>\n",
       "      <td>24.0</td>\n",
       "    </tr>\n",
       "    <tr>\n",
       "      <th>2019-01-02</th>\n",
       "      <td>33.0</td>\n",
       "      <td>24.0</td>\n",
       "    </tr>\n",
       "    <tr>\n",
       "      <th>2019-01-03</th>\n",
       "      <td>38.0</td>\n",
       "      <td>29.0</td>\n",
       "    </tr>\n",
       "    <tr>\n",
       "      <th>2019-01-04</th>\n",
       "      <td>50.0</td>\n",
       "      <td>27.0</td>\n",
       "    </tr>\n",
       "    <tr>\n",
       "      <th>2019-01-05</th>\n",
       "      <td>50.0</td>\n",
       "      <td>24.0</td>\n",
       "    </tr>\n",
       "    <tr>\n",
       "      <th>...</th>\n",
       "      <td>...</td>\n",
       "      <td>...</td>\n",
       "    </tr>\n",
       "    <tr>\n",
       "      <th>2019-12-27</th>\n",
       "      <td>55.0</td>\n",
       "      <td>32.0</td>\n",
       "    </tr>\n",
       "    <tr>\n",
       "      <th>2019-12-28</th>\n",
       "      <td>39.0</td>\n",
       "      <td>30.0</td>\n",
       "    </tr>\n",
       "    <tr>\n",
       "      <th>2019-12-29</th>\n",
       "      <td>52.0</td>\n",
       "      <td>39.0</td>\n",
       "    </tr>\n",
       "    <tr>\n",
       "      <th>2019-12-30</th>\n",
       "      <td>51.0</td>\n",
       "      <td>30.0</td>\n",
       "    </tr>\n",
       "    <tr>\n",
       "      <th>2019-12-31</th>\n",
       "      <td>31.0</td>\n",
       "      <td>27.0</td>\n",
       "    </tr>\n",
       "  </tbody>\n",
       "</table>\n",
       "<p>365 rows × 2 columns</p>\n",
       "</div>"
      ],
      "text/plain": [
       "            TMAX  TMIN\n",
       "DATE                  \n",
       "2019-01-01  34.0  24.0\n",
       "2019-01-02  33.0  24.0\n",
       "2019-01-03  38.0  29.0\n",
       "2019-01-04  50.0  27.0\n",
       "2019-01-05  50.0  24.0\n",
       "...          ...   ...\n",
       "2019-12-27  55.0  32.0\n",
       "2019-12-28  39.0  30.0\n",
       "2019-12-29  52.0  39.0\n",
       "2019-12-30  51.0  30.0\n",
       "2019-12-31  31.0  27.0\n",
       "\n",
       "[365 rows x 2 columns]"
      ]
     },
     "execution_count": 425,
     "metadata": {},
     "output_type": "execute_result"
    }
   ],
   "source": [
    "fn_wx = 'LAN-WX.csv'\n",
    "ln_wx = pd.read_csv(fn_wx, index_col=False)[['DATE','TMAX','TMIN']]\n",
    "ln_wx['DATE'] = pd.to_datetime(ln_wx['DATE'])\n",
    "ln_wx.set_index('DATE', inplace=True)\n",
    "ln_wx.set_index(ln_wx.index.to_period('D'), inplace=True)\n",
    "ln_wx.loc['2019']\n"
   ]
  },
  {
   "cell_type": "markdown",
   "metadata": {},
   "source": [
    "## Display a table that shows the maximum daily temperatures for each month in the year 2013"
   ]
  },
  {
   "cell_type": "code",
   "execution_count": 426,
   "metadata": {},
   "outputs": [
    {
     "data": {
      "text/html": [
       "<div>\n",
       "<style scoped>\n",
       "    .dataframe tbody tr th:only-of-type {\n",
       "        vertical-align: middle;\n",
       "    }\n",
       "\n",
       "    .dataframe tbody tr th {\n",
       "        vertical-align: top;\n",
       "    }\n",
       "\n",
       "    .dataframe thead th {\n",
       "        text-align: right;\n",
       "    }\n",
       "</style>\n",
       "<table border=\"1\" class=\"dataframe\">\n",
       "  <thead>\n",
       "    <tr style=\"text-align: right;\">\n",
       "      <th></th>\n",
       "      <th>max</th>\n",
       "    </tr>\n",
       "    <tr>\n",
       "      <th>DATE</th>\n",
       "      <th></th>\n",
       "    </tr>\n",
       "  </thead>\n",
       "  <tbody>\n",
       "    <tr>\n",
       "      <th>2013-01</th>\n",
       "      <td>58.0</td>\n",
       "    </tr>\n",
       "    <tr>\n",
       "      <th>2013-02</th>\n",
       "      <td>46.0</td>\n",
       "    </tr>\n",
       "    <tr>\n",
       "      <th>2013-03</th>\n",
       "      <td>56.0</td>\n",
       "    </tr>\n",
       "    <tr>\n",
       "      <th>2013-04</th>\n",
       "      <td>74.0</td>\n",
       "    </tr>\n",
       "    <tr>\n",
       "      <th>2013-05</th>\n",
       "      <td>88.0</td>\n",
       "    </tr>\n",
       "    <tr>\n",
       "      <th>2013-06</th>\n",
       "      <td>88.0</td>\n",
       "    </tr>\n",
       "    <tr>\n",
       "      <th>2013-07</th>\n",
       "      <td>94.0</td>\n",
       "    </tr>\n",
       "    <tr>\n",
       "      <th>2013-08</th>\n",
       "      <td>89.0</td>\n",
       "    </tr>\n",
       "    <tr>\n",
       "      <th>2013-09</th>\n",
       "      <td>92.0</td>\n",
       "    </tr>\n",
       "    <tr>\n",
       "      <th>2013-10</th>\n",
       "      <td>80.0</td>\n",
       "    </tr>\n",
       "    <tr>\n",
       "      <th>2013-11</th>\n",
       "      <td>63.0</td>\n",
       "    </tr>\n",
       "    <tr>\n",
       "      <th>2013-12</th>\n",
       "      <td>59.0</td>\n",
       "    </tr>\n",
       "  </tbody>\n",
       "</table>\n",
       "</div>"
      ],
      "text/plain": [
       "          max\n",
       "DATE         \n",
       "2013-01  58.0\n",
       "2013-02  46.0\n",
       "2013-03  56.0\n",
       "2013-04  74.0\n",
       "2013-05  88.0\n",
       "2013-06  88.0\n",
       "2013-07  94.0\n",
       "2013-08  89.0\n",
       "2013-09  92.0\n",
       "2013-10  80.0\n",
       "2013-11  63.0\n",
       "2013-12  59.0"
      ]
     },
     "execution_count": 426,
     "metadata": {},
     "output_type": "execute_result"
    }
   ],
   "source": [
    "fn_wx = 'LAN-WX.csv'\n",
    "ln_wx = pd.read_csv(fn_wx, index_col=False)[['DATE','TMAX','TMIN']]\n",
    "ln_wx['DATE'] = pd.to_datetime(ln_wx['DATE'])\n",
    "ln_wx.set_index('DATE', inplace=True)\n",
    "ln_wx.set_index(ln_wx.index.to_period('D'), inplace=True)\n",
    "ln_wx.loc['2013','TMAX'].resample('M').agg(['max'])"
   ]
  },
  {
   "cell_type": "markdown",
   "metadata": {},
   "source": [
    "## Find the maximum temperature in Lansing for the day of your birth and each birthday thereafter"
   ]
  },
  {
   "cell_type": "markdown",
   "metadata": {},
   "source": []
  },
  {
   "cell_type": "markdown",
   "metadata": {},
   "source": [
    " Plot it as a violin plot using Seaborn."
   ]
  },
  {
   "cell_type": "code",
   "execution_count": 427,
   "metadata": {},
   "outputs": [
    {
     "data": {
      "image/png": "[encoded data removed]",
      "text/plain": [
       "<Figure size 432x288 with 1 Axes>"
      ]
     },
     "metadata": {
      "needs_background": "light"
     },
     "output_type": "display_data"
    }
   ],
   "source": [
    "# bday = dateutil.parser.parse('06/25/1997')\n",
    "# last_bday = dateutil.parser.parse('06/25/2019')\n",
    "# bday_range = pd.date_range(bday,last_bday, freq=pd.DateOffset(years=1))\n",
    "# bday_range\n",
    "# bday_wx = ln_wx.loc[bday_range]\n",
    "fn_wx = 'LAN-WX.csv'\n",
    "ln_wx = pd.read_csv(fn_wx, index_col=False)[['DATE','TMAX','TMIN']]\n",
    "ln_wx['DATE'] = pd.to_datetime(ln_wx['DATE'])\n",
    "use = ln_wx.loc[(ln_wx['DATE'].dt.month==6) & (ln_wx['DATE'].dt.day==25)]\n",
    "ax = sns.violinplot(x=use['TMAX'])"
   ]
  },
  {
   "cell_type": "markdown",
   "metadata": {},
   "source": [
    "Using the same data, create a histogram using seaborn's `histplot` method."
   ]
  },
  {
   "cell_type": "code",
   "execution_count": 428,
   "metadata": {},
   "outputs": [
    {
     "data": {
      "text/plain": [
       "<AxesSubplot:xlabel='TMAX', ylabel='Count'>"
      ]
     },
     "execution_count": 428,
     "metadata": {},
     "output_type": "execute_result"
    },
    {
     "data": {
      "image/png": "[encoded data removed]",
      "text/plain": [
       "<Figure size 432x288 with 1 Axes>"
      ]
     },
     "metadata": {
      "needs_background": "light"
     },
     "output_type": "display_data"
    }
   ],
   "source": [
    "sns.histplot(data=use,x='TMAX')"
   ]
  },
  {
   "cell_type": "markdown",
   "metadata": {},
   "source": [
    "## Find the decade maximum high and low temperature from 1950.  Plot both the maximum and minimum values as a single line plot."
   ]
  },
  {
   "cell_type": "code",
   "execution_count": 429,
   "metadata": {},
   "outputs": [
    {
     "data": {
      "text/plain": [
       "<AxesSubplot:xlabel='DATE'>"
      ]
     },
     "execution_count": 429,
     "metadata": {},
     "output_type": "execute_result"
    },
    {
     "data": {
      "image/png": "[encoded data removed]",
      "text/plain": [
       "<Figure size 432x288 with 1 Axes>"
      ]
     },
     "metadata": {
      "needs_background": "light"
     },
     "output_type": "display_data"
    }
   ],
   "source": [
    "# max_10yr = ln_wx.loc['1950':].resample('10A')['TMAX'].max()\n",
    "# min_10yr = ln_wx.loc['1950':].resample('10A')['TMIN'].min()\n",
    "#sns.lineplot(x=max_10yr.index,y=max_10yr, color='red',label = 'Decade Max')\n",
    "#sns.lineplot(x=min_10yr.index,y=min_10yr, color='blue',label = 'Decade Min')\n",
    "#\n",
    "\n",
    "fn_wx = 'LAN-WX.csv'\n",
    "ln_wx = pd.read_csv(fn_wx, index_col=False)[['DATE','TMAX','TMIN']]\n",
    "ln_wx['DATE'] = pd.to_datetime(ln_wx['DATE'])\n",
    "ln_wx.set_index('DATE', inplace=True)\n",
    "ln_wx.set_index(ln_wx.index.to_period('D'), inplace=True)\n",
    "ln_wx.resample('10A').agg({'TMAX':'max','TMIN':'min'}).plot()\n",
    "\n"
   ]
  },
  {
   "cell_type": "markdown",
   "metadata": {},
   "source": [
    "## Boxplots of class day max temps\n",
    "\n",
    "This class started on Jaunary 11, 2020 and runs for 16 weeks. It meets on Mondays and Wednesdays. Use boxplots to plot the historical distribution from 1960 onward of high temperatures for each date we meet this semester.  In other words, plot the range of maximum temperatures for each (month,day) value in the 2020 course calendar across all years from 1960 onward.\n",
    "\n",
    "\n",
    "First find the date_range for the Mondays we meet in 2022 (including spring break).  Then `union` that with the date range for the Wendesdays of the semester."
   ]
  },
  {
   "cell_type": "code",
   "execution_count": 430,
   "metadata": {},
   "outputs": [
    {
     "data": {
      "text/html": [
       "<div>\n",
       "<style scoped>\n",
       "    .dataframe tbody tr th:only-of-type {\n",
       "        vertical-align: middle;\n",
       "    }\n",
       "\n",
       "    .dataframe tbody tr th {\n",
       "        vertical-align: top;\n",
       "    }\n",
       "\n",
       "    .dataframe thead th {\n",
       "        text-align: right;\n",
       "    }\n",
       "</style>\n",
       "<table border=\"1\" class=\"dataframe\">\n",
       "  <thead>\n",
       "    <tr style=\"text-align: right;\">\n",
       "      <th></th>\n",
       "      <th>TMAX</th>\n",
       "      <th>TMIN</th>\n",
       "    </tr>\n",
       "  </thead>\n",
       "  <tbody>\n",
       "    <tr>\n",
       "      <th>1960-01-10</th>\n",
       "      <td>37.0</td>\n",
       "      <td>26.0</td>\n",
       "    </tr>\n",
       "    <tr>\n",
       "      <th>1960-01-12</th>\n",
       "      <td>52.0</td>\n",
       "      <td>27.0</td>\n",
       "    </tr>\n",
       "    <tr>\n",
       "      <th>1960-01-17</th>\n",
       "      <td>31.0</td>\n",
       "      <td>14.0</td>\n",
       "    </tr>\n",
       "    <tr>\n",
       "      <th>1960-01-19</th>\n",
       "      <td>31.0</td>\n",
       "      <td>22.0</td>\n",
       "    </tr>\n",
       "    <tr>\n",
       "      <th>1960-01-24</th>\n",
       "      <td>27.0</td>\n",
       "      <td>8.0</td>\n",
       "    </tr>\n",
       "    <tr>\n",
       "      <th>...</th>\n",
       "      <td>...</td>\n",
       "      <td>...</td>\n",
       "    </tr>\n",
       "    <tr>\n",
       "      <th>2018-04-13</th>\n",
       "      <td>58.0</td>\n",
       "      <td>37.0</td>\n",
       "    </tr>\n",
       "    <tr>\n",
       "      <th>2018-04-18</th>\n",
       "      <td>44.0</td>\n",
       "      <td>29.0</td>\n",
       "    </tr>\n",
       "    <tr>\n",
       "      <th>2018-04-20</th>\n",
       "      <td>58.0</td>\n",
       "      <td>30.0</td>\n",
       "    </tr>\n",
       "    <tr>\n",
       "      <th>2018-04-25</th>\n",
       "      <td>59.0</td>\n",
       "      <td>40.0</td>\n",
       "    </tr>\n",
       "    <tr>\n",
       "      <th>2018-04-27</th>\n",
       "      <td>62.0</td>\n",
       "      <td>42.0</td>\n",
       "    </tr>\n",
       "  </tbody>\n",
       "</table>\n",
       "<p>1888 rows × 2 columns</p>\n",
       "</div>"
      ],
      "text/plain": [
       "            TMAX  TMIN\n",
       "1960-01-10  37.0  26.0\n",
       "1960-01-12  52.0  27.0\n",
       "1960-01-17  31.0  14.0\n",
       "1960-01-19  31.0  22.0\n",
       "1960-01-24  27.0   8.0\n",
       "...          ...   ...\n",
       "2018-04-13  58.0  37.0\n",
       "2018-04-18  44.0  29.0\n",
       "2018-04-20  58.0  30.0\n",
       "2018-04-25  59.0  40.0\n",
       "2018-04-27  62.0  42.0\n",
       "\n",
       "[1888 rows x 2 columns]"
      ]
     },
     "execution_count": 430,
     "metadata": {},
     "output_type": "execute_result"
    }
   ],
   "source": [
    "fn_wx = 'LAN-WX.csv'\n",
    "ln_wx = pd.read_csv(fn_wx, index_col=False)[['DATE','TMAX','TMIN']]\n",
    "ln_wx['DATE'] = pd.to_datetime(ln_wx['DATE'])\n",
    "ln_wx.set_index('DATE', inplace=True, drop=True)\n",
    "ln_wx.to_period('D', copy=False)\n",
    "\n",
    "class_2022_m = pd.date_range('1/10/2022',freq='W-MON',periods=16)\n",
    "class_2022_w = pd.date_range('1/10/2022',freq='W-WED',periods=16)\n",
    "class_2022 = class_2022_m.union(class_2022_w)\n",
    "\n",
    "class_historic = pd.date_range(start='1/10/1960',end='1/10/1960',periods=1)\n",
    "for year in range(1960,2019):\n",
    "    offset = 2022-year\n",
    "    new_dates = class_2022 - pd.DateOffset(years=offset)\n",
    "    class_historic = class_historic.union(new_dates)\n",
    "class_historic\n",
    "\n",
    "ln_wx.loc[class_historic]\n",
    "\n",
    "\n",
    "#fn_wx = 'LAN-WX.csv'\n",
    "#ln_wx = pd.read_csv(fn_wx, index_col=False)[['DATE','TMAX','TMIN']]\n",
    "#ln_wx['DATE'] = pd.to_datetime(ln_wx['DATE'])\n",
    "#ln_wx.set_index('DATE', drop=True, inplace=True)\n",
    "#monday_range = pd.date_range('1/03/2022', freq='W-MON',periods=16)\n",
    "#wednesday_range = pd.date_range('1/11/2022',freq='W-WED',periods=16)\n",
    "#together2 = monday_range.union(wednesday_range)\n",
    "#oldm = pd.date_range('1/10/1960', freq='W-MON',periods=3130)\n",
    "#oldw = pd.date_range('1/10/1960', freq='W-WED',periods=3129)\n",
    "#together = oldm.union(oldw)\n",
    "#ln_wx.loc[together]\n",
    "#ln_wx.tail()\n",
    "#monday_range\n",
    "#p = together2.strftime('%m-%d')\n",
    "#q = ln_wx['DATE'].dt.strftime('%m-%d')\n",
    "#p.reset_index(drop=True,inplace=True)\n",
    "#l[l.index.isin(p.index)]\n",
    "#l = q.to_frame()\n",
    "#l['DATE'].loc[p['DATE'].index]\n",
    "#l['DATE'].loc[p]\n",
    "#p.columns\n",
    "\n",
    "#ln_wx['DATE'][1].strftime('%m-%d')\n",
    "\n",
    "\n",
    "#l.index\n",
    "\n",
    "#ln_wx.query(\"index.dt.month.eq\")\n",
    "\n",
    "\n",
    "#use = ln_wx.loc[(ln_wx['DATE'].dt.month==6) & (ln_wx['DATE'].dt.day==25)]"
   ]
  },
  {
   "cell_type": "markdown",
   "metadata": {},
   "source": [
    "Make a copy of this union of date ranges.\n",
    "\n",
    "You can then write a loop to find how many years to offset each entry in your semester index and repeat the unioning process to generate entries for each year from 1960 to 2019 in the copy you created.  In the end you should have an entry for each month/day we meet in 2022 but spanning over the years 1960 to 2019."
   ]
  },
  {
   "cell_type": "code",
   "execution_count": null,
   "metadata": {},
   "outputs": [],
   "source": [
    "for range(1960,2019):\n",
    "    "
   ]
  },
  {
   "cell_type": "markdown",
   "metadata": {},
   "source": [
    "Now that we have a list of dates, we can retrieve entries for each date from 1960 to 2019 on month/days that we meet.  However to plot this as a boxplot for each date over all years, we need to change our Index around.\n",
    "\n",
    "We want to create what is called a MultiIndex.  `groupby` generated this for us in the past, but here we want to break our current Index of dates into a MultiIndex of three elments: the year, the month, and the day.\n",
    "\n",
    "To create this new index, if df_class is the data frame that holds the values for each date over all years:\n",
    "    pd.MultiIndex.from_arrays([df_class.index.year, df_class.index.month, df_class.index.day], names=['year', 'month', 'day'])\n",
    "\n",
    "This will return a new index.  And you can use `set_index` on the data frame you are working on (e.g. df_class) to replace the index. \n",
    "\n",
    "Using `reset_index` on that dataframe will then flatten it to give each entry a full year, month, day index.  (In essence, it collapses the groupby behavior).  Use `inplace=True` here.  Call `reset_index` again (with `inplace=True`) to convert our DataFrame's index back to the default integer-based index.  So, if df_class is your dataframe:\n",
    "\n",
    "    df_class.reset_index(inplace=True)   # Collapses our MultiIndex, flattening it\n",
    "    df_class.reset_index(inplace=True)   # Converts the MultiIndex into columns; giving us the default integer Index\n"
   ]
  },
  {
   "cell_type": "code",
   "execution_count": 431,
   "metadata": {},
   "outputs": [
    {
     "data": {
      "text/plain": [
       "<AxesSubplot:ylabel='TMAX'>"
      ]
     },
     "execution_count": 431,
     "metadata": {},
     "output_type": "execute_result"
    },
    {
     "data": {
      "image/png": "[encoded data removed]",
      "text/plain": [
       "<Figure size 432x288 with 1 Axes>"
      ]
     },
     "metadata": {
      "needs_background": "light"
     },
     "output_type": "display_data"
    }
   ],
   "source": [
    "df_class = ln_wx.loc[class_historic]\n",
    "\n",
    "new_index = pd.MultiIndex.from_arrays(\n",
    "    [df_class.index.year, df_class.index.month,df_class.index.day],\n",
    "    names=['year','month','day']\n",
    ")\n",
    "df_class = df_class.set_index(new_index)\n",
    "df_class.reset_index(inplace=True)\n",
    "\n",
    "sns.boxplot(data=df_class,\n",
    "    x=df_class[['month','day']].apply(lambda x: f'{x[0]}/{x[1]}',axis=1),\n",
    "    y='TMAX')\n"
   ]
  },
  {
   "cell_type": "markdown",
   "metadata": {},
   "source": [
    "Now we can make the boxplot using Seaborn's boxplot function.  Assuming `df_class` is our DataFrame:\n",
    "\n",
    "    sns.boxplot(data=df_class, x=df_class[['month','day']].apply(lambda x: f'{x[0]}/{x[1]}', axis=1), y='TMAX')\n",
    "    plt.xticks(rotation=45);\n",
    "\n",
    "This says that we should plot what is in `df_class`, that we want the x-axis values to be a string in the form of month/day and the y-values to be the maximum temperature.  We then want to rotate the x-tick labels 45 degrees.  The semicolon at the end of the second command suppresses output."
   ]
  },
  {
   "cell_type": "code",
   "execution_count": 432,
   "metadata": {},
   "outputs": [
    {
     "data": {
      "text/plain": [
       "<AxesSubplot:>"
      ]
     },
     "execution_count": 432,
     "metadata": {},
     "output_type": "execute_result"
    },
    {
     "data": {
      "image/png": "[encoded data removed]",
      "text/plain": [
       "<Figure size 432x288 with 1 Axes>"
      ]
     },
     "metadata": {
      "needs_background": "light"
     },
     "output_type": "display_data"
    }
   ],
   "source": [
    "import numpy as np\n",
    "deg_90 = []\n",
    "window=5\n",
    "for start_yr in range(1960,2020-window):\n",
    "    end_yr = start_yr + window - 1\n",
    "    yrs_range = pd.date_range(f'1/1/{start_yr}',f'12/13/{end_yr}')\n",
    "    yrs_wx = ln_wx.loc[yrs_range]\n",
    "    count_90 = np.count_nonzero(yrs_wx['TMAX']>90)\n",
    "    deg_90.append((start_yr,count_90))\n",
    "\n",
    "data = np.array(deg_90)\n",
    "sns.lineplot(x=data[:,0], y=data[:,1]/window)\n",
    "\n",
    "#ln_wx['GTR90'] = ln_wx['TMAX'] > 90\n",
    "\n",
    "#ln_wx['GTR90'].sum()"
   ]
  },
  {
   "cell_type": "markdown",
   "metadata": {},
   "source": [
    " ## 90&deg; days\n",
    " \n",
    " The number of 90&deg;F days per year are often used to describe climate change.  Plot the average number of 90&deg;F days as a rolling average over 5 years across the entire data set. \n",
    "\n",
    " Here we might want to use a list to store a tuple that contains the start year and the count of 90 degree days and a loop to iterate over the years 1960 to 2020-`window_size`, where `window_size` is 5.\n",
    "\n",
    " You may also need to use `numpy`'s `count_nonzero` to assist you with the counting.\n",
    "\n",
    " Once you have created your list of tuples, you can use `np.array` to convert it into a data structure that will allow slicing.  From there you can use seaborn's `lineplot` to plot your results."
   ]
  },
  {
   "cell_type": "markdown",
   "metadata": {},
   "source": []
  }
 ],
 "metadata": {
  "kernelspec": {
   "display_name": "Python 3",
   "language": "python",
   "name": "python3"
  },
  "language_info": {
   "codemirror_mode": {
    "name": "ipython",
    "version": 3
   },
   "file_extension": ".py",
   "mimetype": "text/x-python",
   "name": "python",
   "nbconvert_exporter": "python",
   "pygments_lexer": "ipython3",
   "version": "3.9.10"
  }
 },
 "nbformat": 4,
 "nbformat_minor": 2
}
