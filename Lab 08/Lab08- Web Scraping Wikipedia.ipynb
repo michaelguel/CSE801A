{
 "cells": [
  {
   "cell_type": "markdown",
   "metadata": {},
   "source": [
    "# Lab 08: Web Scraping Wikipedia\n",
    "\n",
    "You will need the following packages installed into your conda environment:\n",
    "\n",
    "* scikit-learn\n",
    "* yellowbrick\n",
    "* BeautifulSoup4\n",
    "\n",
    "I would like you to examine whether or not there is a linear correlation between the size of a US state and the year it was admitted to the union.  That is to say, were larger states admitted into the United States later than smaller states?  If there is a linear relationship, we can say this is the case.\n",
    "\n",
    "Objectives: \n",
    "+ Scraping a table from a webpage\n",
    "+ Storing that data in a dataframe\n",
    "+ Performing a linear regression on that data\n",
    "\n",
    "\n",
    "\n",
    "\n",
    "\n"
   ]
  },
  {
   "cell_type": "code",
   "execution_count": 37,
   "metadata": {},
   "outputs": [],
   "source": [
    "import urllib\n",
    "import matplotlib.pylab as plt\n",
    "from bs4 import BeautifulSoup\n",
    "import bs4\n",
    "from sklearn import linear_model\n",
    "from sklearn.metrics import mean_squared_error, r2_score\n",
    "import pandas as pd\n",
    "import numpy as np\n",
    "from yellowbrick.regressor import ResidualsPlot"
   ]
  },
  {
   "cell_type": "markdown",
   "metadata": {},
   "source": [
    "## Part A\n",
    "Using the URL I've provided below, I want you to scrape:\n",
    "1. The name of each state\n",
    "2. The year of admittance for each state\n",
    "3. The land area for each state\n",
    "\n",
    "Examine the URL to the webpage I've provided using your browser's element inspector to determine how to parse the relavent table.  \n",
    "\n",
    "Store the data collected in a Pandas' DataFrame.\n"
   ]
  },
  {
   "cell_type": "code",
   "execution_count": 4,
   "metadata": {},
   "outputs": [],
   "source": [
    "# Write your solution here.  \n",
    "# You may need to use multiple cells to keep track of your efforts.\n",
    "url='https://en.wikipedia.org/wiki/List_of_states_and_territories_of_the_United_States'"
   ]
  },
  {
   "cell_type": "code",
   "execution_count": 5,
   "metadata": {},
   "outputs": [
    {
     "name": "stdout",
     "output_type": "stream",
     "text": [
      "Content type:  text/html; charset=UTF-8\n",
      "Page Title:   <title>List of states and territories of the United States - Wikipedia</title>\n"
     ]
    }
   ],
   "source": [
    "with urllib.request.urlopen(url) as response:\n",
    "    content_type = response.info()['Content-Type']\n",
    "    soup = BeautifulSoup(response.read())\n",
    "print('Content type: ', content_type)\n",
    "print('Page Title:  ',soup.title)"
   ]
  },
  {
   "cell_type": "code",
   "execution_count": 8,
   "metadata": {},
   "outputs": [
    {
     "data": {
      "text/plain": [
       "4"
      ]
     },
     "execution_count": 8,
     "metadata": {},
     "output_type": "execute_result"
    }
   ],
   "source": [
    "tables = soup.find_all('table', {'class':'wikitable sortable plainrowheaders'})\n",
    "len(tables)"
   ]
  },
  {
   "cell_type": "code",
   "execution_count": 9,
   "metadata": {},
   "outputs": [
    {
     "data": {
      "text/plain": [
       "[<caption>States of the United States of America\n",
       " </caption>,\n",
       " <caption>Federal district of the United States\n",
       " </caption>,\n",
       " <caption>Inhabited territories of the United States\n",
       " </caption>,\n",
       " <caption>Territories of the United States with no indigenous population\n",
       " </caption>,\n",
       " <caption>Territories claimed but not administered by the United States\n",
       " </caption>]"
      ]
     },
     "execution_count": 9,
     "metadata": {},
     "output_type": "execute_result"
    }
   ],
   "source": [
    "captions = soup.find_all('caption')\n",
    "captions"
   ]
  },
  {
   "cell_type": "code",
   "execution_count": 43,
   "metadata": {},
   "outputs": [
    {
     "name": "stdout",
     "output_type": "stream",
     "text": [
      " Alabama\n",
      " 1\n",
      " Alaska\n",
      " 1\n",
      " Arizona\n",
      " 2\n",
      " Arkansas\n",
      " 2\n",
      " California\n",
      " 1\n",
      " Colorado\n",
      " 2\n",
      " Connecticut\n",
      " 1\n",
      " Delaware\n",
      " 1\n",
      " Florida\n",
      " 1\n",
      " Georgia\n",
      " 2\n",
      " Hawaii\n",
      " 2\n",
      " Idaho\n",
      " 2\n",
      " Illinois\n",
      " 1\n",
      " Indiana\n",
      " 2\n",
      " Iowa\n",
      " 2\n",
      " Kansas\n",
      " 1\n",
      " Kentucky[D]\n",
      " 1\n",
      " Louisiana\n",
      " 1\n",
      " Maine\n",
      " 1\n",
      " Maryland\n",
      " 1\n",
      " Massachusetts[D]\n",
      " 2\n",
      " Michigan\n",
      " 1\n",
      " Minnesota\n",
      " 1\n",
      " Mississippi\n",
      " 2\n",
      " Missouri\n",
      " 1\n",
      " Montana\n",
      " 1\n",
      " Nebraska\n",
      " 1\n",
      " Nevada\n",
      " 1\n",
      " New Hampshire\n",
      " 1\n",
      " New Jersey\n",
      " 1\n",
      " New Mexico\n",
      " 1\n",
      " New York\n",
      " 1\n",
      " North Carolina\n",
      " 1\n",
      " North Dakota\n",
      " 1\n",
      " Ohio\n",
      " 2\n",
      " Oklahoma\n",
      " 2\n",
      " Oregon\n",
      " 1\n",
      " Pennsylvania[D]\n",
      " 1\n",
      " Rhode Island\n",
      " 2\n",
      " South Carolina\n",
      " 1\n",
      " South Dakota\n",
      " 1\n",
      " Tennessee\n",
      " 2\n",
      " Texas\n",
      " 1\n",
      " Utah\n",
      " 2\n",
      " Vermont\n",
      " 1\n",
      " Virginia[D]\n",
      " 1\n",
      " Washington\n",
      " 1\n",
      " West Virginia\n",
      " 2\n",
      " Wisconsin\n",
      " 1\n",
      " Wyoming\n",
      " 2\n"
     ]
    }
   ],
   "source": [
    "captions[0]\n",
    "table = captions[0].parent\n",
    "table\n",
    "table_body = table.tbody\n",
    "table_body.tr\n",
    "state_rows = table_body.find_all('tr')[2:]\n",
    "len(state_rows)\n",
    "\n",
    "col_year = 3\n",
    "\n",
    "col_size = 5\n",
    "\n",
    "df = pd.DataFrame(columns=('state','year','size'))\n",
    "\n",
    "years = []\n",
    "states = []\n",
    "sizes = []\n",
    "\n",
    "for ndx,row in enumerate(state_rows):\n",
    "    state = row.th.text\n",
    "    row_td = row.find_all('td')\n",
    "    cities_td = row_td[1]\n",
    "    col_span = int(cities_td.attrs['colspan']) if 'colspan' in cities_td.attrs else 1\n",
    "\n",
    "    print(state,col_span)\n",
    "    #print(row.th.text)\n",
    "    #print(row.findAll('td')[col_year])\n",
    "\n",
    "    rel_year = col_year - (col_span-1)\n",
    "    rel_size = col_size - (col_span-1)\n",
    "\n",
    "    admission = int(row_td[rel_year].text.split(',')[-1])\n",
    "    state_size = int(row_td[rel_size].text.replace(',',''))\n",
    "\n",
    "    states.append(state.strip())\n",
    "    years.append(admission)\n",
    "    sizes.append(state_size)\n",
    "\n",
    "df['state'] = states\n",
    "df['year'] = years\n",
    "df['size'] = sizes\n",
    "\n",
    "    #print(state, admission, state_size)"
   ]
  },
  {
   "cell_type": "code",
   "execution_count": 48,
   "metadata": {},
   "outputs": [
    {
     "data": {
      "text/plain": [
       "array([[ 52420],\n",
       "       [665384],\n",
       "       [113990],\n",
       "       [ 53179],\n",
       "       [163695],\n",
       "       [104094],\n",
       "       [  5543],\n",
       "       [  2489],\n",
       "       [ 65758],\n",
       "       [ 59425],\n",
       "       [ 10932],\n",
       "       [ 83569],\n",
       "       [ 57914],\n",
       "       [ 36420],\n",
       "       [ 56273],\n",
       "       [ 82278],\n",
       "       [ 40408],\n",
       "       [ 52378],\n",
       "       [ 35380],\n",
       "       [ 12406],\n",
       "       [ 10554],\n",
       "       [ 96714],\n",
       "       [ 86936],\n",
       "       [ 48432],\n",
       "       [ 69707],\n",
       "       [147040],\n",
       "       [ 77348],\n",
       "       [110572],\n",
       "       [  9349],\n",
       "       [  8723],\n",
       "       [121590],\n",
       "       [ 54555],\n",
       "       [ 53819],\n",
       "       [ 70698],\n",
       "       [ 44826],\n",
       "       [ 69899],\n",
       "       [ 98379],\n",
       "       [ 46054],\n",
       "       [  1545],\n",
       "       [ 32020],\n",
       "       [ 77116],\n",
       "       [ 42144],\n",
       "       [268596],\n",
       "       [ 84897],\n",
       "       [  9616],\n",
       "       [ 42775],\n",
       "       [ 71298],\n",
       "       [ 24230],\n",
       "       [ 65496],\n",
       "       [ 97813]])"
      ]
     },
     "execution_count": 48,
     "metadata": {},
     "output_type": "execute_result"
    }
   ],
   "source": [
    "vec_found = df['year'].to_numpy().reshape(-1,1)\n",
    "#vec_found = df['year'].to_numpy()\n",
    "vec_found\n",
    "\n",
    "vec_size = df['size'].to_numpy().reshape(-1,1)\n",
    "vec_size"
   ]
  },
  {
   "cell_type": "markdown",
   "metadata": {},
   "source": [
    "## Part B\n",
    "\n",
    "Now that we have our data, we can go about plotting it and doing a regression on it.  We're not going to separate test and training data because we're really only interested in the regression line, not how well the regression performs on unseen data. \n",
    "\n",
    "I'd like you to use the Ridge linear model: https://scikit-learn.org/stable/modules/generated/sklearn.linear_model.Ridge.html\n",
    "\n",
    "And I'd like you to follow the histogram plot example on this page: https://www.scikit-yb.org/en/latest/api/regressor/residuals.html# to check whether or not our residuals (error) are normally distributed (as they should be in a \"good\" linear regression)\n",
    "\n",
    "**We will not be splitting the data set into testing and training.**  Only use the \"training\" data -- so 100% of the data is training."
   ]
  },
  {
   "cell_type": "code",
   "execution_count": null,
   "metadata": {},
   "outputs": [],
   "source": [
    "# Because this is univariate data, we need to first\n",
    "# transform our input data into 1-dimensional arrays\n",
    "# If your DataFrame is called df and has columns YearsFounded and SizeMi2\n",
    "# You can use the following\n",
    "# x_vals = df['YearFounded'].to_numpy().reshape(-1,1)\n",
    "# y_vals = df['SizeMi2'].to_numpy().reshape(-1,1)"
   ]
  },
  {
   "cell_type": "code",
   "execution_count": 49,
   "metadata": {},
   "outputs": [
    {
     "name": "stdout",
     "output_type": "stream",
     "text": [
      "Coef:     [[1082.78777626]]\n",
      "Intercept:  [-1916071.15198103]\n",
      "R^2:      0.28338973729031613\n"
     ]
    }
   ],
   "source": [
    "# Use the Ridge linear regression model from skit-learn\n",
    "# Then print out the model coefficients and intercept\n",
    "# You will have to call fit() on the model and then\n",
    "# look at the attributes in the documentation\n",
    "# Also look at our regression score\n",
    "\n",
    "regression = linear_model.Ridge()\n",
    "regression.fit(vec_found, vec_size)\n",
    "\n",
    "print('Coef:    ', regression.coef_)\n",
    "print('Intercept: ',regression.intercept_)\n",
    "print('R^2:     ',regression.score(vec_found,vec_size))"
   ]
  },
  {
   "cell_type": "code",
   "execution_count": 50,
   "metadata": {},
   "outputs": [
    {
     "data": {
      "text/plain": [
       "[<matplotlib.lines.Line2D at 0x1700443d0>]"
      ]
     },
     "execution_count": 50,
     "metadata": {},
     "output_type": "execute_result"
    },
    {
     "data": {
      "image/png": "[encoded data removed]",
      "text/plain": [
       "<Figure size 576x396 with 1 Axes>"
      ]
     },
     "metadata": {},
     "output_type": "display_data"
    }
   ],
   "source": [
    "# Let's plot our result to see our fit\n",
    "# if x_vals and y_vals are your data sets and\n",
    "# regression is the name of your linear model\n",
    "# This will plot the data points and the best fit line\n",
    "#\n",
    "plt.scatter(vec_found, vec_size, color='g', label=df['state'])   # to plot the data\n",
    "plt.plot(vec_found, regression.predict(vec_found), 'k') # to plot the regression\n"
   ]
  },
  {
   "cell_type": "code",
   "execution_count": 51,
   "metadata": {},
   "outputs": [
    {
     "data": {
      "image/png": "[encoded data removed]",
      "text/plain": [
       "<Figure size 576x396 with 2 Axes>"
      ]
     },
     "metadata": {},
     "output_type": "display_data"
    },
    {
     "data": {
      "text/plain": [
       "<AxesSubplot:title={'center':'Residuals for Ridge Model'}, xlabel='Predicted Value', ylabel='Residuals'>"
      ]
     },
     "execution_count": 51,
     "metadata": {},
     "output_type": "execute_result"
    }
   ],
   "source": [
    "# Let's check our residuals with a histogram\n",
    "# You can use the following code\n",
    "# if x_vals and y_vals are your data sets\n",
    "#\n",
    "model = linear_model.Ridge()\n",
    "visualizer = ResidualsPlot(model, hist=True)\n",
    "visualizer.fit(vec_found, vec_size)\n",
    "visualizer.show()\n",
    "#\n",
    "# If our linear model is valid, then the residuals should\n",
    "# be normally distributed.  The histogram on the right\n",
    "# should be a normal distribution.  Is it?  Or are there outliers?"
   ]
  }
 ],
 "metadata": {
  "kernelspec": {
   "display_name": "Python 3",
   "language": "python",
   "name": "python3"
  },
  "language_info": {
   "codemirror_mode": {
    "name": "ipython",
    "version": 3
   },
   "file_extension": ".py",
   "mimetype": "text/x-python",
   "name": "python",
   "nbconvert_exporter": "python",
   "pygments_lexer": "ipython3",
   "version": "3.9.10"
  }
 },
 "nbformat": 4,
 "nbformat_minor": 2
}
