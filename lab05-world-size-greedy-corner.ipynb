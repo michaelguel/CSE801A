{
 "cells": [
  {
   "cell_type": "markdown",
   "metadata": {},
   "source": [
    "# Lab05: Examining the Pointy Game\n",
    "\n",
    "This is a group activity.  I want you to work together in your groups and have *each* of you implement the experiment below.\n",
    "\n",
    "When you are finished with your work, each member of the team should push their solutions (notebooks and pointy game modules) to their github repository under the folder `lab/05` (or whatever convention you are using to keep things organized).\n",
    "\n",
    "You will need the following packages installed into your enviornment:\n",
    "\n",
    "+ seaborn\n",
    "+ scipy\n",
    "+ pandas (should already be installed)"
   ]
  },
  {
   "cell_type": "code",
   "execution_count": null,
   "metadata": {},
   "outputs": [],
   "source": [
    "# The line below imports the module pointy_game but\n",
    "# renames it in this notebook to PointyGame\n",
    "import pointy_game as PointyGame\n",
    "\n",
    "# The line below imports all global variables,\n",
    "# functions, and classes from the strategy module\n",
    "# We will be using the different game playing strats\n",
    "# for exercise 04\n",
    "from strategy import *\n",
    "\n",
    "\n",
    "# We need to import the creature\n",
    "from creature import Creature\n",
    "\n",
    "# Import Pandas; we'll call it pd\n",
    "import pandas as pd\n",
    "\n",
    "# Let's import seaborn; we will use it for plotting\n",
    "import seaborn as sns\n",
    "\n",
    "# And matplot lib since we may need to modify some settings\n",
    "import matplotlib.pyplot as plt\n",
    "\n",
    "# Some experiments will require we randomly select from a collection\n",
    "import random\n",
    "\n",
    "# We'll need to use scipy for our statistical test\n",
    "import scipy as sp\n",
    "\n",
    "# We're going to use itertools to help us with our testing\n",
    "import itertools\n",
    "\n",
    "# Let's make the figures larger\n",
    "from matplotlib import rcParams\n",
    "rcParams['figure.figsize'] = [12,8]"
   ]
  },
  {
   "cell_type": "markdown",
   "metadata": {},
   "source": [
    "## Experiment 03: World Size (Greedily, Corner Placement)\n",
    "\n",
    "In this experiment, I'd like you to examine how the world's size effects its score.\n",
    "\n",
    "By default the world in PointyGame is square.  Last class we used a 21 x 21 world.  What we are going to do for this experiment is change the world size and examine how that effects the creature's score.\n",
    "\n",
    "Let's set some defaults:\n",
    "\n",
    "    world_size = ???              # See below for what sizes of the world I'd like you to collect data for\n",
    "    creature_start = ???          # As close to the middle as we can get based on world shape and size\n",
    "    start_score = 1000            # The creature starts with 1000 units of energy\n",
    "    creature_init_facing = random # The creature's initial facing will be a random value from the set('N', 'E', 'S', 'W')\n",
    "    strategy = play_greedily      # Play with the locally greedy strategy\n",
    "\n",
    "    replicates = 20               # We want 20 plays of the game for each world geometry treatment\n",
    "    steps = 50                    # We want 50 plays (so 51 total steps)\n",
    "\n",
    "    rewards = Default provided\n",
    "\n",
    "The world size and shape is what we will be changing for each treatment.\n",
    "\n",
    "Let's enumerate those treatments, the following values are width, height values for our PointyGame treatments followed by the cell at which you should place our creature:\n",
    "\n",
    "<table>\n",
    "<tr>\n",
    "    <th>world_size</th>\n",
    "    <th>creature_start</th>\n",
    "</tr>\n",
    "<tr>\n",
    "    <td>9,9</td>\n",
    "    <td>0,0</td>\n",
    "</t>\n",
    "<tr>\n",
    "    <td>19,19</td>\n",
    "    <td>0,0</td>\n",
    "</tr>\n",
    "<tr>\n",
    "    <td>29,29</td>\n",
    "    <td>0,0</td>\n",
    "</tr>\n",
    "<tr>\n",
    "    <td>39,39</td>\n",
    "    <td>0,0</td>\n",
    "</tr>\n",
    "</table>\n",
    "\n",
    "For each of the above treatments, I want you to collect the data for each step (including the initial step before play) for PointyGame and create a CSV file with the following column headings:\n",
    "\n",
    "\n",
    "    world_width         # The width of the world\n",
    "    world_height        # The height of the world\n",
    "    creature_start_x    # The x start location of the creature\n",
    "    creature_start_y    # The y start location of the creature\n",
    "    initial_facing      # The initial facing of the creature\n",
    "    start_score         # The start score of the creature\n",
    "    replicate           # The replicate number\n",
    "    step                # The current step, starting at 0 before the first play\n",
    "    score               # The current score of the creature\n",
    "    creature_x          # The current horizontal location of the creature\n",
    "    creature_y          # The current vertical location of the creature\n",
    "    points_matrix       # The current points matrix as a string\n",
    "\n",
    "Aside from the treatment conditions listed, do not change any of the default values to play the game.\n"
   ]
  },
  {
   "cell_type": "code",
   "execution_count": null,
   "metadata": {},
   "outputs": [],
   "source": [
    "experiment_name = 'world-size-greedy-corner'  # This is the name of the experiment"
   ]
  },
  {
   "cell_type": "markdown",
   "metadata": {},
   "source": [
    "## Play the game and collect the data\n",
    "In the cell(s) below, I want you to play Pointy Game as described above, collecting the appropriate data and writing it out to a csv file named the value of the interpreted string `f'{experiment_name}-data.csv'`.  \n",
    "\n",
    "Suggestion: You may want to write a function that will update (or collect) the data to concatenate into your data frame.  This helps keep your code a little less cluttered and has one central place data is collected to avoid bugs.\n",
    "\n",
    "To select a random facing, use the [`random.choice`](https://docs.python.org/3/library/random.html#random.choice) method."
   ]
  },
  {
   "cell_type": "code",
   "execution_count": null,
   "metadata": {},
   "outputs": [],
   "source": [
    "# Write your solution here\n",
    "# Because we didn't specify the data types, we may\n",
    "# need to infer the outputs.  To do this, if your data\n",
    "# frame was called df, include the code:\n",
    "#   df = df.infer_objects()\n",
    "# when you are done constructing the data frame\n",
    "# to make sure the data types are correct\n",
    "\n"
   ]
  },
  {
   "cell_type": "markdown",
   "metadata": {},
   "source": [
    "## Examining the data\n",
    "\n",
    "I would like you to describe the data you have collected:\n",
    "\n",
    "+ How many replicates were there for each treatment?  (Yes this was set.  But it is good practice to examine your data.)  Examine DataFrame's [groupby](https://pandas.pydata.org/docs/reference/api/pandas.DataFrame.groupby.html) method to assist you.  You may want to take a look at [this page](https://jakevdp.github.io/PythonDataScienceHandbook/03.08-aggregation-and-grouping.html) to help you.  The aggregation method `nunique` will count the number of unique elements.\n",
    "+ What was the average score for each treatment?  Again, groupby will help you.\n",
    "+ What was the final score for each treatment?  We'll use sorting and removing duplicates to collect the final score for each replicate.\n"
   ]
  },
  {
   "cell_type": "code",
   "execution_count": null,
   "metadata": {},
   "outputs": [],
   "source": [
    "# Number of replicates by treatment\n"
   ]
  },
  {
   "cell_type": "code",
   "execution_count": null,
   "metadata": {},
   "outputs": [],
   "source": [
    "# Average (mean) score by treatment\n"
   ]
  },
  {
   "cell_type": "code",
   "execution_count": null,
   "metadata": {},
   "outputs": [],
   "source": [
    "# Examine the maximum number of steps for each treatment's replicates\n",
    "# You may need to create a new groupby that groups by width, height, and replicate\n",
    "# Open this variable up in a data explorer to see if it matches your expectations\n",
    "# or print it out.  If you are in VSCode you can explore the results using the data\n",
    "# viewer by clicking on the \"expand\" icon in the variable viewer\n"
   ]
  },
  {
   "cell_type": "code",
   "execution_count": null,
   "metadata": {},
   "outputs": [],
   "source": [
    "# Let's try to gather the final score for each replicate in each treatment\n",
    "# Let's use sort_values to sort our data frame by world_width and then by world_height (ascending)\n",
    "# then by replicate (ascending) and step (descending).  We will then use drop_duplicates to\n",
    "# get the highest step by removing those rows with the same world_height, world_width, and repliate\n",
    "# and keeping just the row with the highest step.  This is our last step.\n",
    "\n",
    "# To sort by multiple values, we can supply a list where each successive\n",
    "# string is a key to sort by.  It sorts by the first key first, then by the second\n",
    "# key and so on.  You can use a list of Boolean values (True or False) to change the\n",
    "# flags for each sort key in your list.\n",
    "\n"
   ]
  },
  {
   "cell_type": "markdown",
   "metadata": {},
   "source": [
    "## Plotting our results\n",
    "\n",
    "Looking at text is fine.  But \"plotting the hell\" out of the data is often better.  \n",
    "\n",
    "Let's make some plots.  We'll be using the package seaborn which makes matplotlib easier to use for data analysis applications."
   ]
  },
  {
   "cell_type": "markdown",
   "metadata": {},
   "source": [
    "### Plot all replicate scores over steps by treatment.\n",
    "\n",
    "What we first want is a single line plot for each treatment.  Each plot will have one line per replicate.  The x-value is the step and the y-value is the score.  So for a single treatment we should have 20 lines.\n",
    "\n",
    "Seaborn is great, but we will have to set some flags to get this to work as it tries to give us summary data when we're dealing with multiple replicates.  For now, we just want individual lines and not some type of summary.\n",
    "\n",
    "Follow the comments in the cells below to assist you."
   ]
  },
  {
   "cell_type": "code",
   "execution_count": null,
   "metadata": {},
   "outputs": [],
   "source": [
    "# First let's make sure we have data grouped by treatment as we did above.\n",
    "# Let's group it by world_width and world_height\n",
    "\n"
   ]
  },
  {
   "cell_type": "code",
   "execution_count": null,
   "metadata": {},
   "outputs": [],
   "source": [
    "# Now let's split that dataframe into a data frame for each treatment\n",
    "# Let's say the variable you created in the previous cell is called by_treatment.\n",
    "# We can split that data frame up by making our own dictionary of\n",
    "# data frames keyed by the treatment.  Let's call it treatment_dict\n",
    "# treatment_dict =  {key:by_treatment.get_group(key) for key in by_treatment.groups}\n"
   ]
  },
  {
   "cell_type": "code",
   "execution_count": null,
   "metadata": {},
   "outputs": [],
   "source": [
    "# Now let's plot each entry in our dictionary\n",
    "# Remember: the key of our dictionary is our treatment\n",
    "# and the value is the dataframe containing that treatment\n",
    "\n",
    "# We will be using seaborn's lineplot function\n",
    "\n",
    "# Write a loop that goes over each key value pair  in treatment_dict\n",
    "# and plot the values.  \n",
    "#\n",
    "# It will be useful if you pull up seaborn's lineplot documentation\n",
    "\n",
    "# The `data` argument  will be the value of the treatment_dict\n",
    "# the title will be the key, the `x` argument will be the step\n",
    "# and the `y` argument will be the score.  `hue` will be replicate\n",
    "# (it acts as a groupby).  Also set the `estimator` argument\n",
    "# to None since we want to see each individual replicate.\n",
    "\n",
    "# You can use a loop to loop over all key,value pairs in the treatment\n",
    "# dictionary you created above making sure to use the `item` method.  \n",
    "\n",
    "# Use `plt.figure()` each time through your loop to create a new figure\n",
    "# (by default seaborn will try to plot on the same figure).\n",
    "\n",
    "# You can use plt.title to set the title for each graph to the\n",
    "# treatment name\n",
    "\n",
    "# Let's also force our scales to be the same using:\n",
    "# plt.ylim(0,3000)\n",
    "# plt.xlim(0,50)\n",
    "\n",
    "\n",
    "\n"
   ]
  },
  {
   "cell_type": "code",
   "execution_count": null,
   "metadata": {},
   "outputs": [],
   "source": [
    "# Now we should have a graph for each of our treatments\n",
    "# showing the score over time.  There will be one line\n",
    "# per replicate.  We can combine these plots into\n",
    "# a single plot if we'd like.  Let's try that again but\n",
    "# this time use the treatment name (dictionary key) as the \n",
    "# `hue` and get rid of extra calls to plt.figure().\n",
    "\n",
    "# We'll use the lineplot arguments: data, x, y, and label\n",
    "# to plot the above plots all in one with the appropriate\n",
    "# label.  Also use the argument: `estimator='mean'`.  We'll\n",
    "# also get the 95% confidence interval around that value\n",
    "# in a lighter shade.\n",
    "\n",
    "# In the end you'll have one plot with colored lines and\n",
    "# confidence intervals for each treatment\n",
    "\n",
    "\n"
   ]
  },
  {
   "cell_type": "markdown",
   "metadata": {},
   "source": [
    "## Statistically testing the difference between treatments\n",
    "\n",
    "We're going to us a statistical test to determine whether or not there are statically different outcomes based on treatment. \n",
    "\n",
    "We'll do two things to check this: first we'll use what's called a violin plot to see what the distributions of the different treatments look like. Then we'll use a statistical test to see whether or not we can say with some confidence how different the distributions are.\n",
    "\n",
    "First we will begin with a violin plot.  A violin plot is like a traditional box and whisker plot but it shows the distribution of values in addition to their range.\n",
    "\n",
    "**We're interested in the final scores of our games from here on out.  We want to answer the question \"Are there significant differences between treatments?\"**"
   ]
  },
  {
   "cell_type": "code",
   "execution_count": null,
   "metadata": {},
   "outputs": [],
   "source": [
    "# First let's make a violin plot of the last score for each treatments' replicates.\n",
    "# You should already have that variable from elsewhere in this notebook.\n",
    "\n",
    "# If your treatment has multiple columns that represent one treatment\n",
    "# combination we can combine them into one tuple to group the treatments:\n",
    "# For example:\n",
    "#   x=final_steps[['world_width','world_height']].apply(tuple, axis=1)\n",
    "# if our treatment was world_width and world_height\n",
    "\n",
    "# So, our violin plot should have the following arguments:\n",
    "# data = the final steps data frame\n",
    "# x = what we discussed above\n",
    "# y = 'score'\n",
    "# inner='quartile'\n",
    "\n",
    "\n"
   ]
  },
  {
   "cell_type": "markdown",
   "metadata": {},
   "source": [
    "## Examine the violin plot you made\n",
    "\n",
    "I want you to answer the question: did my treatments significantly (in a statical sense) change the outcome of playing the game?\n",
    "\n",
    "The violin plot you made should show the distribution of final scores over all treatments.  With the quartile 'inner' argument, we see the median, 25, and 75th quartiles.  If there is a significant difference in the distributions (e.g. the distribution is shifted) then we can say that the treatments have an effext.\n",
    "\n",
    "Now your experiment might have obvious differences.  Or obvious non-differences.  But in science we want to test those differences and not just rely on a qualitative visual inspection.  This is where distribution testing comes into play."
   ]
  },
  {
   "cell_type": "markdown",
   "metadata": {},
   "source": [
    "## Statistical testing of final result\n",
    "\n",
    "We're going to jump into a topic many of you may not be familiar with, and that is statistical testing.\n",
    "\n",
    "Each treatment gives us a distribution of scores that you can see in your violin plot.  The question is: comparing two treatments at a time, is their distribution different?  \n",
    "\n",
    "There are many kinds of statistical tests that have different requirements to \"work\".  Here I'm going to assume there is no underlying parameterized distribution (so not normal, or Gaussian, etc.) and use what's called a non-parametric test.\n",
    "\n",
    "Non parametric tests are useful when your data doesn't fit an expected distribution.  We're going to use what's called a [Mann-Whitney U Test](https://en.wikipedia.org/wiki/Mann%E2%80%93Whitney_U_test) to see if there are differences in these distributions.\n",
    "\n",
    "In the end, let's make a data frame that holds the pair-wise p-values from U-Test comparisons that we've performed."
   ]
  },
  {
   "cell_type": "code",
   "execution_count": null,
   "metadata": {},
   "outputs": [],
   "source": [
    "# First, let's make an dataframe filled with nan (not a number).  \n",
    "# We'll first need to get our treatment labels.\n",
    "\n",
    "# If you have multiple treatment variables (e.g. world_width, world_height) then\n",
    "# we have to transform them (again) to make them a single label.  We'll include\n",
    "# that as the \"label\" column in our final step data frame:\n",
    "#  final_steps['label'] = final_steps[['world_width', 'world_height']].apply(tuple, axis=1)\n",
    "final_steps['label'] = final_steps[['world_width', 'world_height']].apply(tuple, axis=1)\n",
    "\n",
    "# If you have only a single treatment variable, just note that column name.  We'll be using it momentarily."
   ]
  },
  {
   "cell_type": "code",
   "execution_count": null,
   "metadata": {},
   "outputs": [],
   "source": [
    "# We're going to get the unique treatment names from our experiment.\n",
    "# If we have a single label, we can use\n",
    "#   treatment_names = final_steps['column_name'].unique()\n",
    "# where column name is whatever the name of the treatment column is\n",
    "\n",
    "# Otherwise use the column label you created above to handle needing to use multiple columns to make a label\n",
    "#   treatment_names = final_steps['label'].unique()\n",
    "\n",
    "treatment_names = final_steps['label'].unique()\n"
   ]
  },
  {
   "cell_type": "code",
   "execution_count": null,
   "metadata": {},
   "outputs": [],
   "source": [
    "# We're going to use the package itertools to make a Cartesian product of our labels\n",
    "# A cartesian product generates list of all unique combination of elements\n",
    "# Each element in the list will be a tuple.\n",
    "\n",
    "# What we're interested in is a list of all possible pairs of these labels.\n",
    "# So if our list was called treatment_names, we'd use\n",
    "#   itertools.product(treatment_names, repeat=2)\n",
    "# The repeat = 2 is saying we want this list to be a Cartesian product of itself and itself\n",
    "# Let's also convert this immediately to a list so we can see what the result is.\n",
    "# Let's call this list comparisons.\n",
    "\n",
    "\n",
    "comparisons = list(itertools.product(treatment_names, repeat=2))"
   ]
  },
  {
   "cell_type": "code",
   "execution_count": null,
   "metadata": {},
   "outputs": [],
   "source": [
    "# Let's get ready to store our results\n",
    "\n",
    "# Now we'll make an empty dataframe and fill it with np.nan\n",
    "# nan stands for \"Not a Number\".  It is used when floating point\n",
    "# numbers have no value.  It's usually an error or missing\n",
    "# value indicator.  (Integers do not have nan values).\n",
    "\n",
    "df_utest = pd.DataFrame(np.nan, columns=treatment_names, index=treatment_names, dtype='float')\n",
    "df_utest"
   ]
  },
  {
   "cell_type": "code",
   "execution_count": null,
   "metadata": {},
   "outputs": [],
   "source": [
    "# Now we can run our tests.  We're looking for the p-values that come out\n",
    "# of the test.  In science we generally consider something different\n",
    "# if its p-value (probability of occuring) is < 0.05.  This, of course,\n",
    "# depends on what you are testing.  0.05 is a good rule of thumb.\n",
    "\n",
    "# We'll begin by looping over our cartesian products of labels:\n",
    "# Below I'll use the column we created called label.  But your\n",
    "# experiment might have a different column that holds the treatment\n",
    "# labels.\n",
    "for treatment_a, treatment_b in comparisons:\n",
    "    dist_a = final_steps[final_steps['label']==treatment_a]['score']\n",
    "    dist_b = final_steps[final_steps['label']==treatment_b]['score']\n",
    "    result = sp.stats.mannwhitneyu(dist_a, dist_b)\n",
    "    df_utest.loc[[treatment_a],[treatment_b]] = result.pvalue\n",
    "    \n",
    "df_utest\n"
   ]
  },
  {
   "cell_type": "code",
   "execution_count": null,
   "metadata": {},
   "outputs": [],
   "source": [
    "# Save this data frame as the value of f'{experiment_name}-pvalues.csv'\n",
    "df_utest.to_csv(f'experiment-{experiment_name}-pvalues.csv', index=False)"
   ]
  },
  {
   "cell_type": "markdown",
   "metadata": {},
   "source": [
    "# Answering the Question\n",
    "\n",
    "Did you see significant differences between treatments?\n",
    "\n",
    "For this experiment: Does the world size affect the final score in the game?\n",
    "\n",
    "When does it or doesn't it?\n",
    "\n",
    "I would like you to put together a Power Point presentation for your group.  This is not due in class, but you will want to have it ready for Dr. Wisner's class.\n",
    "\n",
    "I want it to have three slides:\n",
    "\n",
    "1. A title slide with your names and experiment name\n",
    "2. A slide explaining the experiment and its justification\n",
    "3. A slide showing your results"
   ]
  },
  {
   "cell_type": "markdown",
   "metadata": {},
   "source": []
  }
 ],
 "metadata": {
  "interpreter": {
   "hash": "bdff1e75330c4245f77f4229201add42f5d79d4cc13b86a8b7d2b792fdd4478f"
  },
  "kernelspec": {
   "display_name": "Python 3.9.7 64-bit ('CSE801': conda)",
   "language": "python",
   "name": "python3"
  },
  "language_info": {
   "codemirror_mode": {
    "name": "ipython",
    "version": 3
   },
   "file_extension": ".py",
   "mimetype": "text/x-python",
   "name": "python",
   "nbconvert_exporter": "python",
   "pygments_lexer": "ipython3",
   "version": "3.9.7"
  },
  "orig_nbformat": 4
 },
 "nbformat": 4,
 "nbformat_minor": 2
}
